{
 "cells": [
  {
   "cell_type": "markdown",
   "id": "65331214-cca9-48af-a4c1-f238fe531bc6",
   "metadata": {},
   "source": [
    "# 02. Neural Network classificaition with PyTorch\n",
    "\n",
    "Classificaiont is a problem of predicting whether something is one thing or another"
   ]
  },
  {
   "cell_type": "markdown",
   "id": "67e9637a-14ab-45a5-88e6-2b8a2c879720",
   "metadata": {},
   "source": [
    "## 1. Make classification data and get it ready"
   ]
  },
  {
   "cell_type": "code",
   "execution_count": 2,
   "id": "68132682-508a-4d35-8032-82ab1f77f364",
   "metadata": {},
   "outputs": [],
   "source": [
    "import sklearn"
   ]
  },
  {
   "cell_type": "code",
   "execution_count": null,
   "id": "5a3cb194-f12c-407f-8c16-7c86296e2349",
   "metadata": {},
   "outputs": [],
   "source": []
  },
  {
   "cell_type": "code",
   "execution_count": null,
   "id": "3d4c0b51-52d1-4eee-b12e-978ce84e611e",
   "metadata": {},
   "outputs": [],
   "source": []
  }
 ],
 "metadata": {
  "kernelspec": {
   "display_name": "Python 3 (ipykernel)",
   "language": "python",
   "name": "python3"
  },
  "language_info": {
   "codemirror_mode": {
    "name": "ipython",
    "version": 3
   },
   "file_extension": ".py",
   "mimetype": "text/x-python",
   "name": "python",
   "nbconvert_exporter": "python",
   "pygments_lexer": "ipython3",
   "version": "3.12.2"
  }
 },
 "nbformat": 4,
 "nbformat_minor": 5
}
