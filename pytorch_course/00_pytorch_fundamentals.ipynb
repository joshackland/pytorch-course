{
 "cells": [
  {
   "cell_type": "markdown",
   "id": "530ce87c-e207-4565-80bc-08a2c977d41e",
   "metadata": {},
   "source": [
    "# 00. PyTorch Fundamentals\n",
    "Resource notebook: https://www.learnpytorch.io/00_pytorch_fundamentals/"
   ]
  },
  {
   "cell_type": "code",
   "execution_count": 1,
   "id": "3514df40-0d00-40d0-90fc-0564d2a01ce1",
   "metadata": {},
   "outputs": [
    {
     "name": "stdout",
     "output_type": "stream",
     "text": [
      "2.2.2+cpu\n"
     ]
    }
   ],
   "source": [
    "import torch\n",
    "import pandas as pd\n",
    "import numpy as np\n",
    "import matplotlib.pyplot as plt\n",
    "print(torch.__version__)"
   ]
  },
  {
   "cell_type": "markdown",
   "id": "0ee99b68-c196-4a04-b6c6-38ee658251a2",
   "metadata": {},
   "source": [
    "## Introduction to Tensors\n",
    "\n",
    "### Creating tensors\n",
    "\n",
    "PyTorch tensors are created using `torch.Tensor()` -> https://pytorch.org/docs/stable/tensors.html"
   ]
  },
  {
   "cell_type": "code",
   "execution_count": 2,
   "id": "1991cc0f-d42b-461e-be57-8b3d9008f23c",
   "metadata": {},
   "outputs": [
    {
     "data": {
      "text/plain": [
       "tensor(7)"
      ]
     },
     "execution_count": 2,
     "metadata": {},
     "output_type": "execute_result"
    }
   ],
   "source": [
    "# scalar\n",
    "scalar = torch.tensor(7)\n",
    "scalar"
   ]
  },
  {
   "cell_type": "code",
   "execution_count": 3,
   "id": "d984a77d-9d4e-487b-b652-526b397f4467",
   "metadata": {},
   "outputs": [
    {
     "data": {
      "text/plain": [
       "0"
      ]
     },
     "execution_count": 3,
     "metadata": {},
     "output_type": "execute_result"
    }
   ],
   "source": [
    "scalar.ndim"
   ]
  },
  {
   "cell_type": "code",
   "execution_count": 4,
   "id": "20732d2f-021b-4a0c-bff3-0410f69add91",
   "metadata": {},
   "outputs": [
    {
     "data": {
      "text/plain": [
       "7"
      ]
     },
     "execution_count": 4,
     "metadata": {},
     "output_type": "execute_result"
    }
   ],
   "source": [
    "# Get tensor back as Python int\n",
    "scalar.item()"
   ]
  },
  {
   "cell_type": "code",
   "execution_count": 5,
   "id": "043f1ea4-42fc-4924-9f06-96c9b49f808f",
   "metadata": {},
   "outputs": [
    {
     "data": {
      "text/plain": [
       "tensor([7, 7])"
      ]
     },
     "execution_count": 5,
     "metadata": {},
     "output_type": "execute_result"
    }
   ],
   "source": [
    "# Vector\n",
    "vector = torch.tensor([7,7])\n",
    "vector"
   ]
  },
  {
   "cell_type": "code",
   "execution_count": 6,
   "id": "8b58dd97-ad93-47ef-9610-759e804a8331",
   "metadata": {},
   "outputs": [
    {
     "data": {
      "text/plain": [
       "torch.Size([2])"
      ]
     },
     "execution_count": 6,
     "metadata": {},
     "output_type": "execute_result"
    }
   ],
   "source": [
    "vector.shape"
   ]
  },
  {
   "cell_type": "code",
   "execution_count": 7,
   "id": "3ff33a3c-2f5b-4754-a88d-078064768ddf",
   "metadata": {},
   "outputs": [
    {
     "data": {
      "text/plain": [
       "tensor([[ 7,  8],\n",
       "        [ 9, 10]])"
      ]
     },
     "execution_count": 7,
     "metadata": {},
     "output_type": "execute_result"
    }
   ],
   "source": [
    "# Matrix\n",
    "MATRIX = torch.tensor([[7,8],[9,10]])\n",
    "MATRIX"
   ]
  },
  {
   "cell_type": "raw",
   "id": "a7c8e63f-e7e2-4d8a-ba3e-7410b07db3c8",
   "metadata": {},
   "source": [
    "MATRIX.ndim"
   ]
  },
  {
   "cell_type": "code",
   "execution_count": 8,
   "id": "f979437e-58d7-4a57-abb8-b70046feedf7",
   "metadata": {},
   "outputs": [
    {
     "data": {
      "text/plain": [
       "tensor([ 9, 10])"
      ]
     },
     "execution_count": 8,
     "metadata": {},
     "output_type": "execute_result"
    }
   ],
   "source": [
    "MATRIX[1]"
   ]
  },
  {
   "cell_type": "code",
   "execution_count": 9,
   "id": "09ccdea7-2dec-411a-900b-ae20ba6487e9",
   "metadata": {},
   "outputs": [
    {
     "data": {
      "text/plain": [
       "torch.Size([2, 2])"
      ]
     },
     "execution_count": 9,
     "metadata": {},
     "output_type": "execute_result"
    }
   ],
   "source": [
    "MATRIX.shape"
   ]
  },
  {
   "cell_type": "code",
   "execution_count": 10,
   "id": "5cf795aa-25ba-44da-b7ca-8981edbf2773",
   "metadata": {},
   "outputs": [
    {
     "data": {
      "text/plain": [
       "tensor([[[1, 2, 3],\n",
       "         [4, 5, 6],\n",
       "         [7, 8, 9]]])"
      ]
     },
     "execution_count": 10,
     "metadata": {},
     "output_type": "execute_result"
    }
   ],
   "source": [
    "# Tensor\n",
    "TENSOR = torch.tensor([[[1,2,3],[4,5,6],[7,8,9]]])\n",
    "TENSOR"
   ]
  },
  {
   "cell_type": "code",
   "execution_count": 11,
   "id": "e74f2b73-919b-4fe3-839b-7a979c83044c",
   "metadata": {},
   "outputs": [
    {
     "data": {
      "text/plain": [
       "3"
      ]
     },
     "execution_count": 11,
     "metadata": {},
     "output_type": "execute_result"
    }
   ],
   "source": [
    "TENSOR.ndim"
   ]
  },
  {
   "cell_type": "code",
   "execution_count": 12,
   "id": "bc7d6ed9-7603-4276-a379-2de8a71a0cac",
   "metadata": {},
   "outputs": [
    {
     "data": {
      "text/plain": [
       "torch.Size([1, 3, 3])"
      ]
     },
     "execution_count": 12,
     "metadata": {},
     "output_type": "execute_result"
    }
   ],
   "source": [
    "TENSOR.shape"
   ]
  },
  {
   "cell_type": "code",
   "execution_count": 13,
   "id": "ab160c68-7c8b-4899-a5cf-0bf5d6d6c80c",
   "metadata": {},
   "outputs": [
    {
     "data": {
      "text/plain": [
       "tensor(6)"
      ]
     },
     "execution_count": 13,
     "metadata": {},
     "output_type": "execute_result"
    }
   ],
   "source": [
    "TENSOR[0][1][2]"
   ]
  },
  {
   "cell_type": "markdown",
   "id": "46530f62-f6e1-46bf-9de4-86a02c078c10",
   "metadata": {},
   "source": [
    "### Random Tensors\n",
    "\n",
    "Random tensors are important because the way many neural networks learn is that they start with tensors full of random number and then adjust those random numbers to better represent the data\n",
    "\n",
    "`Start with random number -> look at data -> update random numbers -> update random numbers`"
   ]
  },
  {
   "cell_type": "code",
   "execution_count": 14,
   "id": "ea263219-6b50-47a9-bdec-50963b43c06b",
   "metadata": {},
   "outputs": [
    {
     "data": {
      "text/plain": [
       "tensor([[0.3916, 0.6221, 0.0431, 0.4310],\n",
       "        [0.4766, 0.0080, 0.2561, 0.8730],\n",
       "        [0.6692, 0.9868, 0.3442, 0.7801]])"
      ]
     },
     "execution_count": 14,
     "metadata": {},
     "output_type": "execute_result"
    }
   ],
   "source": [
    "# Create a random tensor of shape/size (3,4)\n",
    "random_tensor = torch.rand(3,4,)\n",
    "random_tensor"
   ]
  },
  {
   "cell_type": "code",
   "execution_count": 15,
   "id": "8524c1ff-d767-4e46-9c40-98e611c32277",
   "metadata": {},
   "outputs": [
    {
     "data": {
      "text/plain": [
       "2"
      ]
     },
     "execution_count": 15,
     "metadata": {},
     "output_type": "execute_result"
    }
   ],
   "source": [
    "random_tensor.ndim"
   ]
  },
  {
   "cell_type": "code",
   "execution_count": 16,
   "id": "035b0df9-4bad-4f79-a061-1de36633761c",
   "metadata": {},
   "outputs": [
    {
     "data": {
      "text/plain": [
       "(torch.Size([3, 224, 224]), 3)"
      ]
     },
     "execution_count": 16,
     "metadata": {},
     "output_type": "execute_result"
    }
   ],
   "source": [
    "# Create a random tensor with similar shape to an image tensor\n",
    "random_image_size_tensor = torch.rand(size=(3, 224,224)) # colour channels (RGB), height, width\n",
    "random_image_size_tensor.shape, random_image_size_tensor.ndim"
   ]
  },
  {
   "cell_type": "markdown",
   "id": "c4440972-e43b-4410-ae93-38b3a8c963f0",
   "metadata": {},
   "source": [
    "### Zeros and Ones"
   ]
  },
  {
   "cell_type": "code",
   "execution_count": 17,
   "id": "034ab92f-ed5c-40fd-b6eb-709c37b298d2",
   "metadata": {},
   "outputs": [
    {
     "data": {
      "text/plain": [
       "tensor([[0., 0., 0., 0.],\n",
       "        [0., 0., 0., 0.],\n",
       "        [0., 0., 0., 0.]])"
      ]
     },
     "execution_count": 17,
     "metadata": {},
     "output_type": "execute_result"
    }
   ],
   "source": [
    "# Create a tensor of all zeros\n",
    "zeros = torch.zeros(size=(3,4))\n",
    "zeros"
   ]
  },
  {
   "cell_type": "code",
   "execution_count": 18,
   "id": "9945ec7c-f118-4b40-97e5-216acd99ae15",
   "metadata": {},
   "outputs": [
    {
     "data": {
      "text/plain": [
       "tensor([[1., 1., 1., 1.],\n",
       "        [1., 1., 1., 1.],\n",
       "        [1., 1., 1., 1.]])"
      ]
     },
     "execution_count": 18,
     "metadata": {},
     "output_type": "execute_result"
    }
   ],
   "source": [
    "# Create a tensor of all zeros\n",
    "ones = torch.ones(size=(3,4))\n",
    "ones"
   ]
  },
  {
   "cell_type": "code",
   "execution_count": 19,
   "id": "bac42bf9-4fb2-4275-b289-d30e636532d2",
   "metadata": {},
   "outputs": [
    {
     "data": {
      "text/plain": [
       "torch.float32"
      ]
     },
     "execution_count": 19,
     "metadata": {},
     "output_type": "execute_result"
    }
   ],
   "source": [
    "ones.dtype"
   ]
  },
  {
   "cell_type": "markdown",
   "id": "00f067d5-29a5-481e-8e38-4afff964b62b",
   "metadata": {},
   "source": [
    "### Create a range of tensors and tensors-like"
   ]
  },
  {
   "cell_type": "code",
   "execution_count": 20,
   "id": "506f98c0-2ba9-4f1e-be8b-ecb8622f8fb8",
   "metadata": {},
   "outputs": [
    {
     "data": {
      "text/plain": [
       "tensor([0, 1, 2, 3, 4, 5, 6, 7, 8, 9])"
      ]
     },
     "execution_count": 20,
     "metadata": {},
     "output_type": "execute_result"
    }
   ],
   "source": [
    "# Use torch.range()\n",
    "one_to_ten = torch.arange(0,10)\n",
    "one_to_ten"
   ]
  },
  {
   "cell_type": "code",
   "execution_count": 21,
   "id": "24c4a25f-3e1f-4b06-97f1-28eaeaf6ae3e",
   "metadata": {},
   "outputs": [
    {
     "data": {
      "text/plain": [
       "tensor([0, 0, 0, 0, 0, 0, 0, 0, 0, 0])"
      ]
     },
     "execution_count": 21,
     "metadata": {},
     "output_type": "execute_result"
    }
   ],
   "source": [
    "# Creating tensors like\n",
    "ten_zeros = torch.zeros_like(one_to_ten)\n",
    "ten_zeros"
   ]
  },
  {
   "cell_type": "markdown",
   "id": "1ecb7ecd-853e-4a6a-9d46-63b9028e00e9",
   "metadata": {},
   "source": [
    "### Tensor Datatypes"
   ]
  },
  {
   "cell_type": "code",
   "execution_count": 22,
   "id": "473a7452-78be-436b-80a9-d736fe04d425",
   "metadata": {},
   "outputs": [
    {
     "data": {
      "text/plain": [
       "tensor([3., 6., 9.])"
      ]
     },
     "execution_count": 22,
     "metadata": {},
     "output_type": "execute_result"
    }
   ],
   "source": [
    "float_32_tensor = torch.tensor([3.0,6.0,9.0], dtype=None, device=None, requires_grad=False)\n",
    "float_32_tensor"
   ]
  },
  {
   "cell_type": "code",
   "execution_count": 23,
   "id": "34593ef3-deeb-40d3-a058-46e591d6fc70",
   "metadata": {},
   "outputs": [
    {
     "data": {
      "text/plain": [
       "torch.float32"
      ]
     },
     "execution_count": 23,
     "metadata": {},
     "output_type": "execute_result"
    }
   ],
   "source": [
    "float_32_tensor.dtype"
   ]
  },
  {
   "cell_type": "markdown",
   "id": "5a33abdd-0b4a-4b54-b81b-ac9365afe84a",
   "metadata": {},
   "source": [
    "### Getting information from tensors\n",
    "\n",
    "1. Tensors not right datatype - to get a datatype from a tensor, can use `tensor.dtype`\n",
    "2. Tensors not right shape - to get shape from a tensor, can use `tensor.shape`\n",
    "3. Tensors not on the right device - to get device from a tensor, can use `tensor.device`"
   ]
  },
  {
   "cell_type": "code",
   "execution_count": 24,
   "id": "82ab549b-4667-4ad0-be4c-a7d66c0a345b",
   "metadata": {},
   "outputs": [
    {
     "data": {
      "text/plain": [
       "tensor([[0.7654, 0.6539, 0.9451, 0.7990],\n",
       "        [0.5651, 0.4484, 0.4308, 0.9038],\n",
       "        [0.2634, 0.2121, 0.6730, 0.7647]])"
      ]
     },
     "execution_count": 24,
     "metadata": {},
     "output_type": "execute_result"
    }
   ],
   "source": [
    "# Create a tensor\n",
    "some_tensor = torch.rand(3,4)\n",
    "some_tensor    "
   ]
  },
  {
   "cell_type": "code",
   "execution_count": 25,
   "id": "d9efffcf-003b-4e33-8ee8-f1b4836cc7b0",
   "metadata": {},
   "outputs": [
    {
     "name": "stdout",
     "output_type": "stream",
     "text": [
      "torch.float32\n",
      "torch.Size([3, 4])\n",
      "cpu\n"
     ]
    }
   ],
   "source": [
    "# Find out details about some tensor\n",
    "print(some_tensor.dtype)\n",
    "print(some_tensor.shape)\n",
    "print(some_tensor.device)"
   ]
  },
  {
   "cell_type": "markdown",
   "id": "3274987a-8cf2-4ed6-bf47-c8e5829530e9",
   "metadata": {},
   "source": [
    "### Manipulating Tensors (tensor operations)\n",
    "\n",
    "Tensor Operations include:\n",
    "* Addition\n",
    "* Subtraction\n",
    "* Multiplication (element-wise)\n",
    "* Division\n",
    "* Matrix multiplication"
   ]
  },
  {
   "cell_type": "code",
   "execution_count": 26,
   "id": "43b85a0c-df37-4474-aa9d-28e6a6f167ad",
   "metadata": {},
   "outputs": [
    {
     "name": "stdout",
     "output_type": "stream",
     "text": [
      "tensor([11, 12, 13])\n",
      "tensor([11, 12, 13])\n"
     ]
    }
   ],
   "source": [
    "# Create a tensor and add 10 to it\n",
    "tensor = torch.tensor([1,2,3])\n",
    "print(tensor + 10)\n",
    "print(torch.add(tensor, 10))"
   ]
  },
  {
   "cell_type": "code",
   "execution_count": 27,
   "id": "1a49f8d8-a5c9-4f20-984d-c1c0587d81ed",
   "metadata": {},
   "outputs": [
    {
     "name": "stdout",
     "output_type": "stream",
     "text": [
      "tensor([10, 20, 30])\n",
      "tensor([10, 20, 30])\n"
     ]
    }
   ],
   "source": [
    "# Multiply tensor by 10\n",
    "print(tensor * 10)\n",
    "print(torch.mul(tensor, 10))"
   ]
  },
  {
   "cell_type": "code",
   "execution_count": 28,
   "id": "abc9cd85-3d5a-4e7e-aa79-9db971e389f1",
   "metadata": {},
   "outputs": [
    {
     "name": "stdout",
     "output_type": "stream",
     "text": [
      "tensor([-9, -8, -7])\n",
      "tensor([-9, -8, -7])\n"
     ]
    }
   ],
   "source": [
    "# Subtract tensor by 10\n",
    "print(tensor - 10)\n",
    "print(torch.sub(tensor, 10))"
   ]
  },
  {
   "cell_type": "code",
   "execution_count": 29,
   "id": "1b673a20-998d-4220-ab6f-fb2eb089d484",
   "metadata": {},
   "outputs": [
    {
     "name": "stdout",
     "output_type": "stream",
     "text": [
      "tensor([0.1000, 0.2000, 0.3000])\n",
      "tensor([0.1000, 0.2000, 0.3000])\n"
     ]
    }
   ],
   "source": [
    "# Divide tensor by 10\n",
    "print(tensor / 10)\n",
    "print(torch.div(tensor, 10))"
   ]
  },
  {
   "cell_type": "markdown",
   "id": "282637af-310a-4316-948f-ccb9b25f5d9f",
   "metadata": {},
   "source": [
    "### Matrix multiplication\n",
    "\n",
    "Two main ways of performing multiplcation in neural networks and deep learning.\n",
    "\n",
    "1. Element-wise multiplication\n",
    "2. Matrix multiplication (dot product)\n",
    "\n",
    "There are two main rules that performing matrix multiplication needs to satisfy:\n",
    "1. The **inner dimensions** must match:\n",
    "    * `(3,2) @ (3, 2)` won't work\n",
    "    * `(2,3) @ (3, 2)` will work\n",
    "    * `(3,2) @ (2, 3)` will work\n",
    "2. The resulting matrix has the shape of the **outer dimensions**:\n",
    "   * `(2,3) @ (3,2) -> (2,2)`\n",
    "   * `(3,2) @ (2,3) -> (3,3)`\n",
    "   "
   ]
  },
  {
   "cell_type": "code",
   "execution_count": 30,
   "id": "4b36e8d4-ebf7-4dff-ad3d-3eb5b99b4622",
   "metadata": {},
   "outputs": [
    {
     "name": "stdout",
     "output_type": "stream",
     "text": [
      "tensor([[0.0387, 0.9183],\n",
      "        [0.5815, 0.6150],\n",
      "        [0.0993, 0.0965]])\n",
      "tensor([[0.2404, 0.4122],\n",
      "        [0.9193, 0.3550],\n",
      "        [0.1085, 0.4791]])\n"
     ]
    }
   ],
   "source": [
    "mat1 = torch.rand(3,2)\n",
    "mat2 = torch.rand(3,2)\n",
    "print(mat1)\n",
    "print(mat2)"
   ]
  },
  {
   "cell_type": "code",
   "execution_count": 31,
   "id": "33bc1900-4b11-4760-b967-f1979ad90cb9",
   "metadata": {},
   "outputs": [
    {
     "ename": "RuntimeError",
     "evalue": "mat1 and mat2 shapes cannot be multiplied (3x2 and 3x2)",
     "output_type": "error",
     "traceback": [
      "\u001b[1;31m---------------------------------------------------------------------------\u001b[0m",
      "\u001b[1;31mRuntimeError\u001b[0m                              Traceback (most recent call last)",
      "Cell \u001b[1;32mIn[31], line 1\u001b[0m\n\u001b[1;32m----> 1\u001b[0m \u001b[43mtorch\u001b[49m\u001b[38;5;241;43m.\u001b[39;49m\u001b[43mmatmul\u001b[49m\u001b[43m(\u001b[49m\u001b[43mmat1\u001b[49m\u001b[43m,\u001b[49m\u001b[43m \u001b[49m\u001b[43mmat2\u001b[49m\u001b[43m)\u001b[49m\n",
      "\u001b[1;31mRuntimeError\u001b[0m: mat1 and mat2 shapes cannot be multiplied (3x2 and 3x2)"
     ]
    }
   ],
   "source": [
    "torch.matmul(mat1, mat2)"
   ]
  },
  {
   "cell_type": "code",
   "execution_count": 32,
   "id": "02296fc8-33ec-42db-8678-39955a51b535",
   "metadata": {},
   "outputs": [
    {
     "name": "stdout",
     "output_type": "stream",
     "text": [
      "tensor([[0.0649, 0.0065],\n",
      "        [0.4779, 0.4013],\n",
      "        [0.8537, 0.2333]])\n",
      "tensor([[0.9034, 0.4049, 0.3261],\n",
      "        [0.0534, 0.1468, 0.0579]])\n"
     ]
    }
   ],
   "source": [
    "mat1 = torch.rand(3,2)\n",
    "mat2 = torch.rand(2,3)\n",
    "print(mat1)\n",
    "print(mat2)"
   ]
  },
  {
   "cell_type": "code",
   "execution_count": 33,
   "id": "c6287b12-c16a-4a8d-afa7-59b0d5395da0",
   "metadata": {},
   "outputs": [
    {
     "data": {
      "text/plain": [
       "tensor([[0.0589, 0.0272, 0.0215],\n",
       "        [0.4532, 0.2524, 0.1791],\n",
       "        [0.7837, 0.3800, 0.2919]])"
      ]
     },
     "execution_count": 33,
     "metadata": {},
     "output_type": "execute_result"
    }
   ],
   "source": [
    "torch.matmul(mat1, mat2)"
   ]
  },
  {
   "cell_type": "code",
   "execution_count": 34,
   "id": "568d7abb-9fa7-428c-8401-19e16900d75d",
   "metadata": {},
   "outputs": [
    {
     "data": {
      "text/plain": [
       "tensor([1, 4, 9])"
      ]
     },
     "execution_count": 34,
     "metadata": {},
     "output_type": "execute_result"
    }
   ],
   "source": [
    "# Element wise multiplication\n",
    "torch.mul(tensor, tensor)"
   ]
  },
  {
   "cell_type": "code",
   "execution_count": 35,
   "id": "06bb56a3-c1cb-4ab7-bca8-c1c004df562d",
   "metadata": {},
   "outputs": [
    {
     "data": {
      "text/plain": [
       "tensor(14)"
      ]
     },
     "execution_count": 35,
     "metadata": {},
     "output_type": "execute_result"
    }
   ],
   "source": [
    "# Matrix multiplication\n",
    "torch.matmul(tensor, tensor)"
   ]
  },
  {
   "cell_type": "markdown",
   "id": "88d4b8c3-643a-4594-9347-10bf1b0fd9ce",
   "metadata": {},
   "source": [
    "### One of the most common errors in deep learning: shape errors"
   ]
  },
  {
   "cell_type": "code",
   "execution_count": 36,
   "id": "b6314c1c-53a7-42cd-961b-7612273ec708",
   "metadata": {},
   "outputs": [
    {
     "name": "stdout",
     "output_type": "stream",
     "text": [
      "tensor([[0.1584, 0.4709],\n",
      "        [0.5293, 0.9756],\n",
      "        [0.5230, 0.9617]])\n",
      "tensor([[0.4466, 0.6059],\n",
      "        [0.6070, 0.0151],\n",
      "        [0.1740, 0.1094]])\n"
     ]
    }
   ],
   "source": [
    "# Shapes for matrix multiplication\n",
    "tensor_A = torch.rand(size=(3,2))\n",
    "print(tensor_A)\n",
    "\n",
    "tensor_B = torch.rand(size=(3,2))\n",
    "print(tensor_B)"
   ]
  },
  {
   "cell_type": "code",
   "execution_count": 37,
   "id": "c39caf7d-11a2-4c0b-a96f-3de5dd124b0d",
   "metadata": {},
   "outputs": [
    {
     "ename": "RuntimeError",
     "evalue": "mat1 and mat2 shapes cannot be multiplied (3x2 and 3x2)",
     "output_type": "error",
     "traceback": [
      "\u001b[1;31m---------------------------------------------------------------------------\u001b[0m",
      "\u001b[1;31mRuntimeError\u001b[0m                              Traceback (most recent call last)",
      "Cell \u001b[1;32mIn[37], line 1\u001b[0m\n\u001b[1;32m----> 1\u001b[0m \u001b[43mtorch\u001b[49m\u001b[38;5;241;43m.\u001b[39;49m\u001b[43mmatmul\u001b[49m\u001b[43m(\u001b[49m\u001b[43mtensor_A\u001b[49m\u001b[43m,\u001b[49m\u001b[43m \u001b[49m\u001b[43mtensor_B\u001b[49m\u001b[43m)\u001b[49m\n",
      "\u001b[1;31mRuntimeError\u001b[0m: mat1 and mat2 shapes cannot be multiplied (3x2 and 3x2)"
     ]
    }
   ],
   "source": [
    "torch.matmul(tensor_A, tensor_B)"
   ]
  },
  {
   "cell_type": "markdown",
   "id": "33c3d1c3-b7ce-4b37-a8c4-9d458ff9e097",
   "metadata": {},
   "source": [
    "To fix our tensor shape issues, we can manipulate the shape of one of our tensors using transpose.\n",
    "\n",
    "A **transpose** switches the axes or dimensions of a given tensor."
   ]
  },
  {
   "cell_type": "code",
   "execution_count": 38,
   "id": "dd76aa6c-806b-46a1-b9b9-bed0752c9535",
   "metadata": {},
   "outputs": [
    {
     "name": "stdout",
     "output_type": "stream",
     "text": [
      "tensor([[0.4466, 0.6059],\n",
      "        [0.6070, 0.0151],\n",
      "        [0.1740, 0.1094]])\n",
      "tensor([[0.4466, 0.6070, 0.1740],\n",
      "        [0.6059, 0.0151, 0.1094]])\n"
     ]
    }
   ],
   "source": [
    "print(tensor_B)\n",
    "print(tensor_B.T)"
   ]
  },
  {
   "cell_type": "code",
   "execution_count": 39,
   "id": "97d58256-c3f8-4d44-9ad9-4209fe12f4f5",
   "metadata": {},
   "outputs": [
    {
     "data": {
      "text/plain": [
       "tensor([[0.3561, 0.1032, 0.0791],\n",
       "        [0.8275, 0.3360, 0.1988],\n",
       "        [0.8163, 0.3320, 0.1962]])"
      ]
     },
     "execution_count": 39,
     "metadata": {},
     "output_type": "execute_result"
    }
   ],
   "source": [
    "# The matrix multiplcationn operation works when tensor_b is transposed\n",
    "torch.matmul(tensor_A, tensor_B.T)"
   ]
  },
  {
   "cell_type": "markdown",
   "id": "9ba8237c-1846-47e3-97f0-4c62ae1748d2",
   "metadata": {},
   "source": [
    "### Finding the min, max, mean, sum, etc (tensor aggregation)"
   ]
  },
  {
   "cell_type": "code",
   "execution_count": 40,
   "id": "43b4e328-89cd-4eec-a770-049bb1e9cd2c",
   "metadata": {},
   "outputs": [
    {
     "data": {
      "text/plain": [
       "tensor([ 1, 11, 21, 31, 41, 51, 61, 71, 81, 91])"
      ]
     },
     "execution_count": 40,
     "metadata": {},
     "output_type": "execute_result"
    }
   ],
   "source": [
    "# Create a tensor\n",
    "x = torch.arange(1, 100, 10)\n",
    "x"
   ]
  },
  {
   "cell_type": "code",
   "execution_count": 41,
   "id": "01742357-cbf0-4196-be99-2d1028caf27f",
   "metadata": {},
   "outputs": [
    {
     "data": {
      "text/plain": [
       "tensor(1)"
      ]
     },
     "execution_count": 41,
     "metadata": {},
     "output_type": "execute_result"
    }
   ],
   "source": [
    "# Find the min\n",
    "x.min()"
   ]
  },
  {
   "cell_type": "code",
   "execution_count": 42,
   "id": "360422bf-9e6e-4495-b4de-42eb72ab3fc0",
   "metadata": {},
   "outputs": [
    {
     "data": {
      "text/plain": [
       "tensor(91)"
      ]
     },
     "execution_count": 42,
     "metadata": {},
     "output_type": "execute_result"
    }
   ],
   "source": [
    "# Find the max\n",
    "x.max()"
   ]
  },
  {
   "cell_type": "code",
   "execution_count": 43,
   "id": "35d86042-ad17-4314-bf7f-6c4227c4adb5",
   "metadata": {},
   "outputs": [
    {
     "data": {
      "text/plain": [
       "(tensor(46.), tensor(46.))"
      ]
     },
     "execution_count": 43,
     "metadata": {},
     "output_type": "execute_result"
    }
   ],
   "source": [
    "# Find the mean\n",
    "torch.mean(x.type(torch.float32)), x.type(torch.float32).mean()"
   ]
  },
  {
   "cell_type": "code",
   "execution_count": 44,
   "id": "616ebaa6-04ee-41d4-8d0d-ce4b633b6d8a",
   "metadata": {},
   "outputs": [
    {
     "data": {
      "text/plain": [
       "tensor(460)"
      ]
     },
     "execution_count": 44,
     "metadata": {},
     "output_type": "execute_result"
    }
   ],
   "source": [
    "# Find the sum\n",
    "x.sum()"
   ]
  },
  {
   "cell_type": "markdown",
   "id": "e3869ebf-9089-4fbe-ad76-0a82d5e42b26",
   "metadata": {},
   "source": [
    "### FInding the positional min and max"
   ]
  },
  {
   "cell_type": "code",
   "execution_count": 45,
   "id": "182958e7-4ca6-4a0c-9833-4207b1db17cb",
   "metadata": {},
   "outputs": [
    {
     "data": {
      "text/plain": [
       "(tensor(1), tensor(0), tensor(1))"
      ]
     },
     "execution_count": 45,
     "metadata": {},
     "output_type": "execute_result"
    }
   ],
   "source": [
    "# min and min index\n",
    "x.min(), x.argmin(), x[x.argmin()]"
   ]
  },
  {
   "cell_type": "code",
   "execution_count": 46,
   "id": "21954313-95b0-49af-bfb8-d0bf7a2658b0",
   "metadata": {},
   "outputs": [
    {
     "data": {
      "text/plain": [
       "(tensor(91), tensor(9), tensor(91))"
      ]
     },
     "execution_count": 46,
     "metadata": {},
     "output_type": "execute_result"
    }
   ],
   "source": [
    "# max and max index\n",
    "x.max(), x.argmax(), x[x.argmax()]"
   ]
  },
  {
   "cell_type": "markdown",
   "id": "6fea3ea0-9163-4b29-94fc-216e1f086fe6",
   "metadata": {},
   "source": [
    "## Reshaping, stacking, squeezing and unsqueezing tensors\n",
    "\n",
    "* Reshaping - reshapes an input tensor to a defined shape\n",
    "* View - Return a view of an input tensor of a certain shape but keep the same memory as the original tensor\n",
    "* Stacking - Concatenates a secombine multiple tensors on top of each other (vertical stack) or side by side (horizontal stack)\n",
    "* Squeeze - Removes all `1` dimension from a tensor\n",
    "* Unsqueeze - add a `1` dimension to a target tensor\n",
    "* Permute - Return a view of the imput with dimensions permuted (swapped) in a certain way"
   ]
  },
  {
   "cell_type": "code",
   "execution_count": 62,
   "id": "0d2b50d1-a012-4efb-aef5-e604b32033de",
   "metadata": {},
   "outputs": [
    {
     "data": {
      "text/plain": [
       "(tensor([1., 2., 3., 4., 5., 6., 7., 8., 9.]), torch.Size([9]))"
      ]
     },
     "execution_count": 62,
     "metadata": {},
     "output_type": "execute_result"
    }
   ],
   "source": [
    "#Create a tensor\n",
    "import torch\n",
    "\n",
    "x = torch.arange(1., 10.)\n",
    "x, x.shape"
   ]
  },
  {
   "cell_type": "code",
   "execution_count": 63,
   "id": "ea874a69-767b-41e5-8d4d-ac731276e843",
   "metadata": {},
   "outputs": [
    {
     "data": {
      "text/plain": [
       "(tensor([[1., 2., 3., 4., 5., 6., 7., 8., 9.]]), torch.Size([1, 9]))"
      ]
     },
     "execution_count": 63,
     "metadata": {},
     "output_type": "execute_result"
    }
   ],
   "source": [
    "#Add a dimension\n",
    "#a new object\n",
    "x_reshaped = x.reshape(1,9)\n",
    "x_reshaped, x_reshaped.shape"
   ]
  },
  {
   "cell_type": "code",
   "execution_count": 64,
   "id": "60e06d42-9093-4a82-9738-728ee75af9b7",
   "metadata": {},
   "outputs": [
    {
     "data": {
      "text/plain": [
       "(tensor([[1., 2., 3., 4., 5., 6., 7., 8., 9.]]), torch.Size([1, 9]))"
      ]
     },
     "execution_count": 64,
     "metadata": {},
     "output_type": "execute_result"
    }
   ],
   "source": [
    "#Change view\n",
    "#shares memory with x\n",
    "z = x.view(1,9)\n",
    "z, z.shape"
   ]
  },
  {
   "cell_type": "code",
   "execution_count": 58,
   "id": "6f4cc59b-095d-49d5-856c-cdb7d6e21991",
   "metadata": {},
   "outputs": [],
   "source": [
    "#change z changes x"
   ]
  },
  {
   "cell_type": "code",
   "execution_count": 65,
   "id": "75c9c50b-17ba-4a53-9aab-9364fcc7d534",
   "metadata": {},
   "outputs": [
    {
     "data": {
      "text/plain": [
       "(tensor([[5., 2., 3., 4., 5., 6., 7., 8., 9.]]),\n",
       " tensor([5., 2., 3., 4., 5., 6., 7., 8., 9.]))"
      ]
     },
     "execution_count": 65,
     "metadata": {},
     "output_type": "execute_result"
    }
   ],
   "source": [
    "z[:,0] = 5\n",
    "z,x"
   ]
  },
  {
   "cell_type": "code",
   "execution_count": 66,
   "id": "9fd61d53-bd50-47b1-be1b-e557818eb8af",
   "metadata": {},
   "outputs": [
    {
     "data": {
      "text/plain": [
       "(tensor([[10.,  2.,  3.,  4.,  5.,  6.,  7.,  8.,  9.]]),\n",
       " tensor([10.,  2.,  3.,  4.,  5.,  6.,  7.,  8.,  9.]))"
      ]
     },
     "execution_count": 66,
     "metadata": {},
     "output_type": "execute_result"
    }
   ],
   "source": [
    "x_reshaped[:,0] = 10\n",
    "x_reshaped,x\n",
    "#thought this would show them different but it didnt?"
   ]
  },
  {
   "cell_type": "code",
   "execution_count": 74,
   "id": "ae0e2af6-e6e9-4353-ba25-21670cc17f01",
   "metadata": {},
   "outputs": [
    {
     "data": {
      "text/plain": [
       "tensor([[10.,  2.,  3.,  4.,  5.,  6.,  7.,  8.,  9.],\n",
       "        [10.,  2.,  3.,  4.,  5.,  6.,  7.,  8.,  9.],\n",
       "        [10.,  2.,  3.,  4.,  5.,  6.,  7.,  8.,  9.],\n",
       "        [10.,  2.,  3.,  4.,  5.,  6.,  7.,  8.,  9.]])"
      ]
     },
     "execution_count": 74,
     "metadata": {},
     "output_type": "execute_result"
    }
   ],
   "source": [
    "# stack tensors on top of each other\n",
    "x_stacked = torch.stack([x,x,x,x], dim=0)\n",
    "x_stacked"
   ]
  },
  {
   "cell_type": "code",
   "execution_count": 85,
   "id": "74bfa187-fda1-488d-b218-857b5de58d1c",
   "metadata": {},
   "outputs": [
    {
     "data": {
      "text/plain": [
       "(tensor([[[[[0., 0.]],\n",
       " \n",
       "           [[0., 0.]]]],\n",
       " \n",
       " \n",
       " \n",
       "         [[[[0., 0.]],\n",
       " \n",
       "           [[0., 0.]]]]]),\n",
       " torch.Size([2, 1, 2, 1, 2]),\n",
       " torch.Size([2, 2, 1, 2]))"
      ]
     },
     "execution_count": 85,
     "metadata": {},
     "output_type": "execute_result"
    }
   ],
   "source": [
    "# torch.squeeze() removes all single dimensions from a target tensor\n",
    "x = torch.zeros(2, 1, 2, 1, 2)\n",
    "x,x.size()\n",
    "y = torch.squeeze(x) # removes all\n",
    "y.size()\n",
    "y = torch.squeeze(x, 1) # removes at index\n",
    "x,x.size(),y.size()"
   ]
  },
  {
   "cell_type": "code",
   "execution_count": 93,
   "id": "ee5939fa-19d2-469b-a7d2-a0a7e22263c8",
   "metadata": {},
   "outputs": [
    {
     "data": {
      "text/plain": [
       "(torch.Size([2, 1, 2, 1, 2]), torch.Size([2, 1, 1, 2, 1, 2]))"
      ]
     },
     "execution_count": 93,
     "metadata": {},
     "output_type": "execute_result"
    }
   ],
   "source": [
    "# torch.unsqueeze() - adds a single dimension to a target tensor at a specific dimension (dim)\n",
    "y = torch.unsqueeze(x, dim=1)\n",
    "x.shape,y.shape"
   ]
  },
  {
   "cell_type": "code",
   "execution_count": 97,
   "id": "a9cf9e34-3e88-4ac5-a39a-0e18b0e2e1dd",
   "metadata": {},
   "outputs": [
    {
     "data": {
      "text/plain": [
       "(torch.Size([224, 224, 3]), torch.Size([3, 224, 224]))"
      ]
     },
     "execution_count": 97,
     "metadata": {},
     "output_type": "execute_result"
    }
   ],
   "source": [
    "# torch.permute - rearranges the dimensions of a target tensor in a specified order\n",
    "x_original = torch.rand(size=(224,224,3)) # heright, widthh, colour\n",
    "\n",
    "#Permute original tensor to rearrange the axis (dim) order\n",
    "x_new = x_original.permute(2,0,1)\n",
    "x_original.shape, x_new.shape"
   ]
  },
  {
   "cell_type": "markdown",
   "id": "145b69c1-bd9e-4938-b5a2-ce4455c8bb81",
   "metadata": {},
   "source": [
    "## Indexing (selecting data from tensors)\n",
    "\n",
    "Indexing with PyTorch is similar to indexing with NumPy"
   ]
  },
  {
   "cell_type": "code",
   "execution_count": 99,
   "id": "7f1b2878-ec74-44c3-b961-87a82804f99d",
   "metadata": {},
   "outputs": [
    {
     "data": {
      "text/plain": [
       "(tensor([[[1, 2, 3],\n",
       "          [4, 5, 6],\n",
       "          [7, 8, 9]]]),\n",
       " torch.Size([1, 3, 3]))"
      ]
     },
     "execution_count": 99,
     "metadata": {},
     "output_type": "execute_result"
    }
   ],
   "source": [
    "import torch\n",
    "x = torch.arange(1,10).reshape(1,3,3)\n",
    "x, x.shape"
   ]
  },
  {
   "cell_type": "code",
   "execution_count": 110,
   "id": "764e2089-8626-4d87-8077-d90322221fb0",
   "metadata": {},
   "outputs": [
    {
     "data": {
      "text/plain": [
       "(tensor([1, 2, 3]), tensor([2, 5, 8]))"
      ]
     },
     "execution_count": 110,
     "metadata": {},
     "output_type": "execute_result"
    }
   ],
   "source": [
    "x[0][0], x[0,:,1]"
   ]
  },
  {
   "cell_type": "code",
   "execution_count": 118,
   "id": "3c6ad69a-b716-47b9-9bec-8b7ede418279",
   "metadata": {},
   "outputs": [
    {
     "data": {
      "text/plain": [
       "tensor([5, 8])"
      ]
     },
     "execution_count": 118,
     "metadata": {},
     "output_type": "execute_result"
    }
   ],
   "source": [
    "x[0,1:, 1]"
   ]
  },
  {
   "cell_type": "markdown",
   "id": "3edb262f-7db8-437f-8fc7-8911f2fb1f36",
   "metadata": {},
   "source": [
    "## PyTorch tensors & NumPy\n",
    "\n",
    "NumPy is a popular scientific Python numerical computing library.\n",
    "\n",
    "PyTorch has functionality to interact with it.\n",
    "\n",
    "* Data in NumPy to use in PyTorch -> `torch.from_numpy(ndarray)`\n",
    "* PyTorch tensor -> NumPy -> `torch.Tensor.numpy()`"
   ]
  },
  {
   "cell_type": "code",
   "execution_count": 123,
   "id": "7d548850-6cc5-4f58-86f9-e80d0a5c0b37",
   "metadata": {},
   "outputs": [
    {
     "data": {
      "text/plain": [
       "(array([1., 2., 3., 4., 5., 6., 7.]),\n",
       " tensor([1., 2., 3., 4., 5., 6., 7.]),\n",
       " dtype('float64'),\n",
       " torch.float32,\n",
       " torch.float32)"
      ]
     },
     "execution_count": 123,
     "metadata": {},
     "output_type": "execute_result"
    }
   ],
   "source": [
    "# NumPy array to tensor\n",
    "import torch\n",
    "import numpy as np\n",
    "\n",
    "array = np.arange(1.0, 8.0)\n",
    "tensor = torch.from_numpy(array).type(torch.float32)\n",
    "array, tensor, array.dtype, tensor.dtype, torch.arange(1.0, 8.0).dtype"
   ]
  },
  {
   "cell_type": "code",
   "execution_count": 124,
   "id": "bb6af59c-dca1-43d4-8061-a3afeba91f46",
   "metadata": {},
   "outputs": [
    {
     "data": {
      "text/plain": [
       "(array([2., 3., 4., 5., 6., 7., 8.]), tensor([1., 2., 3., 4., 5., 6., 7.]))"
      ]
     },
     "execution_count": 124,
     "metadata": {},
     "output_type": "execute_result"
    }
   ],
   "source": [
    "array = array + 1\n",
    "array,tensor"
   ]
  },
  {
   "cell_type": "code",
   "execution_count": 126,
   "id": "6d60eeb9-21ab-46ea-ba19-c76ae62caf72",
   "metadata": {},
   "outputs": [
    {
     "data": {
      "text/plain": [
       "(tensor([1., 1., 1., 1., 1., 1., 1.]),\n",
       " array([1., 1., 1., 1., 1., 1., 1.], dtype=float32),\n",
       " torch.float32,\n",
       " dtype('float32'))"
      ]
     },
     "execution_count": 126,
     "metadata": {},
     "output_type": "execute_result"
    }
   ],
   "source": [
    "tensor = torch.ones(7)\n",
    "numpy_tensor = tensor.numpy()\n",
    "tensor, numpy_tensor, tensor.dtype, numpy_tensor.dtype,"
   ]
  },
  {
   "cell_type": "code",
   "execution_count": 127,
   "id": "20135e98-e758-44b9-80e9-8a3ff52f847e",
   "metadata": {},
   "outputs": [
    {
     "data": {
      "text/plain": [
       "(tensor([2., 2., 2., 2., 2., 2., 2.]),\n",
       " array([1., 1., 1., 1., 1., 1., 1.], dtype=float32))"
      ]
     },
     "execution_count": 127,
     "metadata": {},
     "output_type": "execute_result"
    }
   ],
   "source": [
    "tensor = tensor + 1\n",
    "tensor,numpy_tensor"
   ]
  },
  {
   "cell_type": "markdown",
   "id": "6fa3a25d-2ba7-4e81-85ac-10ea66c0a3f8",
   "metadata": {},
   "source": [
    "## Reproducibility (take the random out of random)\n",
    "\n",
    "How a neural network learns:\n",
    "\n",
    "`start with a random number -> tensor operations -> update random numbers to try and make them of the data -> again -> again\n",
    "\n",
    "To reduce randomness in neural networks and PyTorch comes the concept of a **random seed**\n",
    "\n",
    "Random seed gives a starting point for the randomness and will always produce the same *randomness*"
   ]
  },
  {
   "cell_type": "code",
   "execution_count": 135,
   "id": "7512e2de-16dd-4812-b4a4-b7d78be05cf7",
   "metadata": {},
   "outputs": [
    {
     "data": {
      "text/plain": [
       "(tensor([[0.5251, 0.1851, 0.5258, 0.6363],\n",
       "         [0.7075, 0.7046, 0.8430, 0.7858],\n",
       "         [0.3789, 0.3135, 0.7345, 0.5579]]),\n",
       " tensor([[0.2080, 0.1277, 0.7779, 0.7330],\n",
       "         [0.8097, 0.0132, 0.4823, 0.9856],\n",
       "         [0.0282, 0.3292, 0.7643, 0.3558]]),\n",
       " tensor([[False, False, False, False],\n",
       "         [False, False, False, False],\n",
       "         [False, False, False, False]]))"
      ]
     },
     "execution_count": 135,
     "metadata": {},
     "output_type": "execute_result"
    }
   ],
   "source": [
    "import torch\n",
    "\n",
    "random_tensor_A = torch.rand(3,4)\n",
    "random_tensor_B = torch.rand(3,4)\n",
    "random_tensor_A,random_tensor_B,random_tensor_A==random_tensor_B"
   ]
  },
  {
   "cell_type": "code",
   "execution_count": 145,
   "id": "04692b50-4fb2-4558-96e0-6b515f9bc6ea",
   "metadata": {},
   "outputs": [
    {
     "data": {
      "text/plain": [
       "(tensor([[0.0290, 0.4019, 0.2598, 0.3666],\n",
       "         [0.0583, 0.7006, 0.0518, 0.4681],\n",
       "         [0.6738, 0.3315, 0.7837, 0.5631]]),\n",
       " tensor([[0.7749, 0.8208, 0.2793, 0.6817],\n",
       "         [0.2837, 0.6567, 0.2388, 0.7313],\n",
       "         [0.6012, 0.3043, 0.2548, 0.6294]]),\n",
       " tensor([[False, False, False, False],\n",
       "         [False, False, False, False],\n",
       "         [False, False, False, False]]))"
      ]
     },
     "execution_count": 145,
     "metadata": {},
     "output_type": "execute_result"
    }
   ],
   "source": [
    "RANDOM_SEED = 1234\n",
    "torch.manual_seed(RANDOM_SEED)\n",
    "random_tensor_A = torch.rand(3,4)\n",
    "random_tensor_B = torch.rand(3,4)\n",
    "random_tensor_A,random_tensor_B,random_tensor_A==random_tensor_B"
   ]
  },
  {
   "cell_type": "markdown",
   "id": "bb3b85d8-7f17-4776-aa5a-c99dc9543faa",
   "metadata": {},
   "source": [
    "## Running tensors and PyTorch objects on GPU\n",
    "GPUs are faster at computing numbers than CPU\n",
    "\n",
    "https://pytorch.org/get-started/locally/"
   ]
  },
  {
   "cell_type": "code",
   "execution_count": 146,
   "id": "a63deef4-28ae-46d1-8a66-b32b53df762e",
   "metadata": {},
   "outputs": [
    {
     "name": "stderr",
     "output_type": "stream",
     "text": [
      "'nvidia-smi' is not recognized as an internal or external command,\n",
      "operable program or batch file.\n"
     ]
    }
   ],
   "source": [
    "# nvidia gpu\n",
    "!nvidia-smi"
   ]
  },
  {
   "cell_type": "markdown",
   "id": "b10f378a-8873-43d6-8373-feb61458bc7b",
   "metadata": {},
   "source": [
    "### Check for GPU connection to PyTorch\n"
   ]
  },
  {
   "cell_type": "code",
   "execution_count": 148,
   "id": "7be2ef4c-f94b-4ffc-b084-3d1f535f600f",
   "metadata": {},
   "outputs": [
    {
     "data": {
      "text/plain": [
       "(False, 0)"
      ]
     },
     "execution_count": 148,
     "metadata": {},
     "output_type": "execute_result"
    }
   ],
   "source": [
    "# check for GPU access with PyTorch\n",
    "import torch\n",
    "torch.cuda.is_available(), torch.cuda.device_count()"
   ]
  },
  {
   "cell_type": "code",
   "execution_count": 150,
   "id": "b80e9682-f432-438a-9380-d447753cf94b",
   "metadata": {},
   "outputs": [
    {
     "data": {
      "text/plain": [
       "'cpu'"
      ]
     },
     "execution_count": 150,
     "metadata": {},
     "output_type": "execute_result"
    }
   ],
   "source": [
    "# Device agnostic code\n",
    "device = \"cuda\" if torch.cuda.is_available() else \"cpu\"\n",
    "torch.device(device)\n",
    "device"
   ]
  },
  {
   "cell_type": "markdown",
   "id": "e31a140d-a49b-4b03-b5aa-6a24205714cd",
   "metadata": {},
   "source": [
    "## Putting tensors and models on the GPU\n",
    "The reason we would want our tensors/models on the GPU is because using a GPU results in faster computations"
   ]
  },
  {
   "cell_type": "code",
   "execution_count": 152,
   "id": "89991903-b8b6-4799-8ef4-76e13813203f",
   "metadata": {},
   "outputs": [
    {
     "data": {
      "text/plain": [
       "(tensor([1, 2, 3]), device(type='cpu'))"
      ]
     },
     "execution_count": 152,
     "metadata": {},
     "output_type": "execute_result"
    }
   ],
   "source": [
    "import torch\n",
    "tensor = torch.tensor([1,2,3])\n",
    "tensor, tensor.device"
   ]
  },
  {
   "cell_type": "markdown",
   "id": "966b382f-844d-4ae8-930c-c6aaee046d2c",
   "metadata": {},
   "source": [
    "### Move tensors back to CPU"
   ]
  },
  {
   "cell_type": "code",
   "execution_count": 153,
   "id": "0752b0e4-5d13-48b9-8885-3e800a6b231a",
   "metadata": {},
   "outputs": [
    {
     "data": {
      "text/plain": [
       "array([1, 2, 3], dtype=int64)"
      ]
     },
     "execution_count": 153,
     "metadata": {},
     "output_type": "execute_result"
    }
   ],
   "source": [
    "tensor.cpu().numpy()"
   ]
  },
  {
   "cell_type": "code",
   "execution_count": null,
   "id": "f3b92bff-a39e-40e7-8aa1-27a3b383bbb6",
   "metadata": {},
   "outputs": [],
   "source": []
  },
  {
   "cell_type": "code",
   "execution_count": null,
   "id": "57e5e110-7c04-4e96-9145-12cdbe8f8f3f",
   "metadata": {},
   "outputs": [],
   "source": []
  },
  {
   "cell_type": "code",
   "execution_count": null,
   "id": "e927b777-13f6-4de5-8512-36335281c812",
   "metadata": {},
   "outputs": [],
   "source": []
  },
  {
   "cell_type": "code",
   "execution_count": null,
   "id": "96330630-6ba3-4de2-a003-73448a2877aa",
   "metadata": {},
   "outputs": [],
   "source": []
  },
  {
   "cell_type": "code",
   "execution_count": null,
   "id": "89bf91b7-b9c2-4a94-a8b6-240b7d0a7c3c",
   "metadata": {},
   "outputs": [],
   "source": []
  },
  {
   "cell_type": "code",
   "execution_count": null,
   "id": "9aab664e-af45-4a88-9b39-6fc1faf8a670",
   "metadata": {},
   "outputs": [],
   "source": []
  },
  {
   "cell_type": "code",
   "execution_count": null,
   "id": "ac6dc1f7-68fd-4cf2-89cc-8f53c95ca3ca",
   "metadata": {},
   "outputs": [],
   "source": []
  },
  {
   "cell_type": "code",
   "execution_count": null,
   "id": "d5f6ef48-9ea1-4a6b-a553-2fa7ee8f9da2",
   "metadata": {},
   "outputs": [],
   "source": []
  },
  {
   "cell_type": "code",
   "execution_count": null,
   "id": "bdbe88dd-bfa7-49de-ac17-fa90d420a578",
   "metadata": {},
   "outputs": [],
   "source": []
  },
  {
   "cell_type": "code",
   "execution_count": null,
   "id": "92ed4cf2-93cf-4284-b8fa-ffb16d09cd89",
   "metadata": {},
   "outputs": [],
   "source": []
  },
  {
   "cell_type": "code",
   "execution_count": null,
   "id": "6ad07c42-b32c-46fb-b85c-af52e6c98257",
   "metadata": {},
   "outputs": [],
   "source": []
  },
  {
   "cell_type": "code",
   "execution_count": null,
   "id": "9ead21b0-4e67-4cbe-b08c-cf901a3f50ef",
   "metadata": {},
   "outputs": [],
   "source": []
  },
  {
   "cell_type": "code",
   "execution_count": null,
   "id": "9ce56b41-fe9b-4279-b026-4d38f0369cbd",
   "metadata": {},
   "outputs": [],
   "source": []
  },
  {
   "cell_type": "code",
   "execution_count": null,
   "id": "bc123e5a-15a8-4d0c-8d6f-8478677351d9",
   "metadata": {},
   "outputs": [],
   "source": []
  },
  {
   "cell_type": "code",
   "execution_count": null,
   "id": "a2b87edd-671e-4adc-b82b-26859fda1eef",
   "metadata": {},
   "outputs": [],
   "source": []
  },
  {
   "cell_type": "code",
   "execution_count": null,
   "id": "9e11cf47-b86b-48e9-96b1-bc2f2f7b5323",
   "metadata": {},
   "outputs": [],
   "source": []
  },
  {
   "cell_type": "code",
   "execution_count": null,
   "id": "a242bf98-eda1-47a7-9866-11191fa74079",
   "metadata": {},
   "outputs": [],
   "source": []
  },
  {
   "cell_type": "code",
   "execution_count": null,
   "id": "38798302-79d9-44aa-a46b-ecb7363dcb73",
   "metadata": {},
   "outputs": [],
   "source": []
  },
  {
   "cell_type": "code",
   "execution_count": null,
   "id": "c0ca3272-ee0b-4a49-9939-9455d0059e54",
   "metadata": {},
   "outputs": [],
   "source": []
  },
  {
   "cell_type": "code",
   "execution_count": null,
   "id": "a8194d21-2c7f-43fd-a2b4-5161b4adbacd",
   "metadata": {},
   "outputs": [],
   "source": []
  },
  {
   "cell_type": "code",
   "execution_count": null,
   "id": "7689b726-b46e-4caa-9d97-d83c720cb654",
   "metadata": {},
   "outputs": [],
   "source": []
  },
  {
   "cell_type": "code",
   "execution_count": null,
   "id": "6dac20b6-f440-4947-bb92-8559b5407139",
   "metadata": {},
   "outputs": [],
   "source": []
  },
  {
   "cell_type": "code",
   "execution_count": null,
   "id": "e91aa120-057f-4b68-9376-1b55abe328ca",
   "metadata": {},
   "outputs": [],
   "source": []
  },
  {
   "cell_type": "code",
   "execution_count": null,
   "id": "049f22f6-6062-4bf4-b8d9-d2eaea96b801",
   "metadata": {},
   "outputs": [],
   "source": []
  },
  {
   "cell_type": "code",
   "execution_count": null,
   "id": "55a5a3e5-98ad-452c-9259-2a32585d5d7c",
   "metadata": {},
   "outputs": [],
   "source": []
  },
  {
   "cell_type": "code",
   "execution_count": null,
   "id": "3897ee4d-30a9-4224-8d99-e574338d8239",
   "metadata": {},
   "outputs": [],
   "source": []
  }
 ],
 "metadata": {
  "kernelspec": {
   "display_name": "Python 3 (ipykernel)",
   "language": "python",
   "name": "python3"
  },
  "language_info": {
   "codemirror_mode": {
    "name": "ipython",
    "version": 3
   },
   "file_extension": ".py",
   "mimetype": "text/x-python",
   "name": "python",
   "nbconvert_exporter": "python",
   "pygments_lexer": "ipython3",
   "version": "3.12.2"
  }
 },
 "nbformat": 4,
 "nbformat_minor": 5
}
