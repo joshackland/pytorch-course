{
 "cells": [
  {
   "cell_type": "markdown",
   "id": "22d65c43-d420-48f1-9ce7-19e3c6170d13",
   "metadata": {},
   "source": [
    "# PyTorch Workflow\n",
    "An example PyTorch end-to-end workflow"
   ]
  },
  {
   "cell_type": "code",
   "execution_count": 1,
   "id": "55eee870-268f-40a8-b3ac-794d4b42ccae",
   "metadata": {},
   "outputs": [
    {
     "data": {
      "text/plain": [
       "{1: 'data (prepare and load)',\n",
       " 2: 'build model',\n",
       " 3: 'fitting the model to data (training)',\n",
       " 4: 'making predictions and evaluating a model (inference)',\n",
       " 5: 'saving and loading a model',\n",
       " 6: 'pytting it all together'}"
      ]
     },
     "execution_count": 1,
     "metadata": {},
     "output_type": "execute_result"
    }
   ],
   "source": [
    "what_we_are_covering = {\n",
    "    1: \"data (prepare and load)\", \n",
    "    2: \"build model\", \n",
    "    3: \"fitting the model to data (training)\", \n",
    "    4: \"making predictions and evaluating a model (inference)\",\n",
    "    5: \"saving and loading a model\",\n",
    "    6: \"pytting it all together\"\n",
    "}\n",
    "what_we_are_covering"
   ]
  },
  {
   "cell_type": "code",
   "execution_count": 2,
   "id": "be77a96e-e68d-4194-b241-6693e3fc5e23",
   "metadata": {},
   "outputs": [
    {
     "data": {
      "text/plain": [
       "'2.2.2+cpu'"
      ]
     },
     "execution_count": 2,
     "metadata": {},
     "output_type": "execute_result"
    }
   ],
   "source": [
    "import torch\n",
    "from torch import nn # nn contains all PyTorch building blocks for neural networks computational graph\n",
    "import matplotlib.pyplot as plt\n",
    "\n",
    "torch.__version__"
   ]
  },
  {
   "cell_type": "markdown",
   "id": "cf85dc78-6034-4d96-a7f3-c5d6a5e36520",
   "metadata": {},
   "source": [
    "## 1. Data (preparing and loading)\n",
    "\n",
    "Data can be almost anything in machine learning.\n",
    "* Excel spreadsheet\n",
    "* Images\n",
    "* Videos\n",
    "* Audio\n",
    "* DNA\n",
    "* Text\n",
    "\n",
    "Machine learning is a game of two parts:\n",
    "1. Get data into a numerical representation: Inputs (data of any kinds) -> Numerical encoding\n",
    "2. Build a model to learn patterns in that numberical representation: Learns representation (patterns/features/weights) -> Representation output\n",
    "\n",
    "Creating known data usng the linear regression formula\n",
    "\n",
    "Use a linear regression formula to make a straight line with kown **parameters**\n",
    "\n",
    "Y = a + bX"
   ]
  },
  {
   "cell_type": "code",
   "execution_count": 3,
   "id": "93068c55-9ed6-4b87-a194-463f79844615",
   "metadata": {},
   "outputs": [
    {
     "data": {
      "text/plain": [
       "(tensor([[0.0000],\n",
       "         [0.0200],\n",
       "         [0.0400],\n",
       "         [0.0600],\n",
       "         [0.0800],\n",
       "         [0.1000],\n",
       "         [0.1200],\n",
       "         [0.1400],\n",
       "         [0.1600],\n",
       "         [0.1800]]),\n",
       " tensor([[0.2100],\n",
       "         [0.2160],\n",
       "         [0.2220],\n",
       "         [0.2280],\n",
       "         [0.2340],\n",
       "         [0.2400],\n",
       "         [0.2460],\n",
       "         [0.2520],\n",
       "         [0.2580],\n",
       "         [0.2640]]),\n",
       " 50,\n",
       " 50)"
      ]
     },
     "execution_count": 3,
     "metadata": {},
     "output_type": "execute_result"
    }
   ],
   "source": [
    "# Create known parameters\n",
    "bias = 0.3 #a\n",
    "weight = 0.7 #b\n",
    "\n",
    "# create\n",
    "start = 0\n",
    "end = 1\n",
    "step = 0.02\n",
    "X = torch.arange(start, end, step).unsqueeze(dim=1)\n",
    "y = bias * (X + weight)\n",
    "\n",
    "X[:10], y[:10], len(X), len(y)"
   ]
  },
  {
   "cell_type": "markdown",
   "id": "80d30142-9a8e-44b6-b22b-ed28835e2dac",
   "metadata": {},
   "source": [
    "### Splitting data into training and test sets\n",
    "\n",
    "Three datasets\n",
    "1. Training Set/Split - model learns patterns\n",
    "2. Validation Set/Split - tune model and retrain to learn patterns\n",
    "3. Test Set/Split - see if the trained model can accurately predict unseen material\n",
    "\n",
    "Generalisation - the ability for a marhine leaarning model to perform well on data it hasn't seen before"
   ]
  },
  {
   "cell_type": "code",
   "execution_count": 110,
   "id": "81900a55-3150-4668-adf7-66d7862bd8b5",
   "metadata": {},
   "outputs": [
    {
     "data": {
      "text/plain": [
       "(tensor([[0.0000],\n",
       "         [0.0200],\n",
       "         [0.0400],\n",
       "         [0.0600],\n",
       "         [0.0800],\n",
       "         [0.1000],\n",
       "         [0.1200],\n",
       "         [0.1400],\n",
       "         [0.1600],\n",
       "         [0.1800],\n",
       "         [0.2000],\n",
       "         [0.2200],\n",
       "         [0.2400],\n",
       "         [0.2600],\n",
       "         [0.2800],\n",
       "         [0.3000],\n",
       "         [0.3200],\n",
       "         [0.3400],\n",
       "         [0.3600],\n",
       "         [0.3800],\n",
       "         [0.4000],\n",
       "         [0.4200],\n",
       "         [0.4400],\n",
       "         [0.4600],\n",
       "         [0.4800],\n",
       "         [0.5000],\n",
       "         [0.5200],\n",
       "         [0.5400],\n",
       "         [0.5600],\n",
       "         [0.5800],\n",
       "         [0.6000],\n",
       "         [0.6200],\n",
       "         [0.6400],\n",
       "         [0.6600],\n",
       "         [0.6800],\n",
       "         [0.7000],\n",
       "         [0.7200],\n",
       "         [0.7400],\n",
       "         [0.7600],\n",
       "         [0.7800]]),\n",
       " tensor([[0.2100],\n",
       "         [0.2160],\n",
       "         [0.2220],\n",
       "         [0.2280],\n",
       "         [0.2340],\n",
       "         [0.2400],\n",
       "         [0.2460],\n",
       "         [0.2520],\n",
       "         [0.2580],\n",
       "         [0.2640],\n",
       "         [0.2700],\n",
       "         [0.2760],\n",
       "         [0.2820],\n",
       "         [0.2880],\n",
       "         [0.2940],\n",
       "         [0.3000],\n",
       "         [0.3060],\n",
       "         [0.3120],\n",
       "         [0.3180],\n",
       "         [0.3240],\n",
       "         [0.3300],\n",
       "         [0.3360],\n",
       "         [0.3420],\n",
       "         [0.3480],\n",
       "         [0.3540],\n",
       "         [0.3600],\n",
       "         [0.3660],\n",
       "         [0.3720],\n",
       "         [0.3780],\n",
       "         [0.3840],\n",
       "         [0.3900],\n",
       "         [0.3960],\n",
       "         [0.4020],\n",
       "         [0.4080],\n",
       "         [0.4140],\n",
       "         [0.4200],\n",
       "         [0.4260],\n",
       "         [0.4320],\n",
       "         [0.4380],\n",
       "         [0.4440]]),\n",
       " tensor([[0.8000],\n",
       "         [0.8200],\n",
       "         [0.8400],\n",
       "         [0.8600],\n",
       "         [0.8800],\n",
       "         [0.9000],\n",
       "         [0.9200],\n",
       "         [0.9400],\n",
       "         [0.9600],\n",
       "         [0.9800]]),\n",
       " tensor([[0.4500],\n",
       "         [0.4560],\n",
       "         [0.4620],\n",
       "         [0.4680],\n",
       "         [0.4740],\n",
       "         [0.4800],\n",
       "         [0.4860],\n",
       "         [0.4920],\n",
       "         [0.4980],\n",
       "         [0.5040]]))"
      ]
     },
     "execution_count": 110,
     "metadata": {},
     "output_type": "execute_result"
    }
   ],
   "source": [
    "# Create a train/test split\n",
    "train_split = int(0.8 * len(X))\n",
    "X_train, y_train = X[:train_split], y[:train_split]\n",
    "X_test, y_test = X[train_split:], y[train_split:]\n",
    "\n",
    "X_train, y_train, X_test, y_test"
   ]
  },
  {
   "cell_type": "code",
   "execution_count": 111,
   "id": "a0c39d3d-ea38-4c0e-9b5b-5958a7a64b26",
   "metadata": {},
   "outputs": [
    {
     "data": {
      "image/png": "[encoded data removed]",
      "text/plain": [
       "<Figure size 1000x700 with 1 Axes>"
      ]
     },
     "metadata": {},
     "output_type": "display_data"
    }
   ],
   "source": [
    "def plot_predictions(\n",
    "    train_data=X_train, \n",
    "    train_labels=y_train, \n",
    "    test_data=X_test, \n",
    "    test_labels=y_test, \n",
    "    predictions=None):\n",
    "    \n",
    "    plt.figure(figsize=(10,7))\n",
    "\n",
    "    plt.scatter(train_data, train_labels, c=\"b\", s=4, label=\"Training data\")\n",
    "    plt.scatter(test_data, test_labels, c=\"g\", s=4, label=\"Testing data\")\n",
    "\n",
    "    if predictions is not None:\n",
    "        plt.scatter(test_data, predictions, c=\"r\", s=4, label=\"Predictions\")\n",
    "    \n",
    "    plt.legend(prop={\"size\":14})\n",
    "\n",
    "\n",
    "plot_predictions()"
   ]
  },
  {
   "cell_type": "markdown",
   "id": "6369868a-680e-4045-a5ff-740c7adf6ee7",
   "metadata": {},
   "source": [
    "## 2. Build Model\n",
    "\n",
    "What model does\n",
    "* Start with random values (weight and bias)\n",
    "* Look at our training data and adjust the random values to better represent (or get closer to) the ideal values (weight and bias values we used to create the data)\n",
    "\n",
    "Two main algorithms:\n",
    "1. Gradient descent\n",
    "2. Backpropagation"
   ]
  },
  {
   "cell_type": "code",
   "execution_count": 126,
   "id": "e7b9c667-b142-4879-8139-0a52baf19b6f",
   "metadata": {},
   "outputs": [],
   "source": [
    "from torch import nn\n",
    "\n",
    "# Create linear regression model class\n",
    "class LinearRegressionModel(nn.Module): # Base class for all neural network models\n",
    "    def __init__(self):\n",
    "        super().__init__()\n",
    "        # Parameter - a kind of Tensore that is to be considered a module parameter\n",
    "\n",
    "        #random weights and bias created\n",
    "        self.weights = nn.Parameter(torch.randn(\n",
    "            1, #random weight\n",
    "            requires_grad=True, # parameter can be updata via gradient descent\n",
    "            dtype=torch.float\n",
    "        ))\n",
    "        self.bias =  nn.Parameter(torch.randn(\n",
    "            1, \n",
    "            requires_grad=True, # requires gradient\n",
    "            dtype=torch.float\n",
    "        ))\n",
    "\n",
    "    #machine learning uses forward for training and uses random weights and bias\n",
    "    def forward(self, x: torch.Tensor) -> torch.Tensor: # x is the input data\n",
    "        return self.weights * x + self.bias # linear regression formula\n",
    "                                \n",
    "    "
   ]
  },
  {
   "cell_type": "code",
   "execution_count": 127,
   "id": "549a9db2-ab23-4883-9a14-3c1e9947ef99",
   "metadata": {},
   "outputs": [
    {
     "data": {
      "text/plain": [
       "[Parameter containing:\n",
       " tensor([1.0752], requires_grad=True),\n",
       " Parameter containing:\n",
       " tensor([0.0811], requires_grad=True)]"
      ]
     },
     "execution_count": 127,
     "metadata": {},
     "output_type": "execute_result"
    }
   ],
   "source": [
    "#torch.manual_seed(42)\n",
    "\n",
    "model_0 = LinearRegressionModel()\n",
    "\n",
    "list(model_0.parameters())"
   ]
  },
  {
   "cell_type": "code",
   "execution_count": 128,
   "id": "b408789d-d573-4c94-9366-55733c546a0b",
   "metadata": {},
   "outputs": [
    {
     "data": {
      "text/plain": [
       "OrderedDict([('weights', tensor([1.0752])), ('bias', tensor([0.0811]))])"
      ]
     },
     "execution_count": 128,
     "metadata": {},
     "output_type": "execute_result"
    }
   ],
   "source": [
    "model_0.state_dict()"
   ]
  },
  {
   "cell_type": "markdown",
   "id": "ac5e64a8-69ad-4046-8efd-138e036744ed",
   "metadata": {},
   "source": [
    "### Making predictions using `torch.inference_mode()`\n",
    "\n",
    "Check model's prediction using y_test based on X_test"
   ]
  },
  {
   "cell_type": "code",
   "execution_count": 129,
   "id": "456618e2-99f6-4cfd-9dd7-1f147db2540a",
   "metadata": {},
   "outputs": [
    {
     "data": {
      "text/plain": [
       "tensor([[0.9413],\n",
       "        [0.9628],\n",
       "        [0.9843],\n",
       "        [1.0058],\n",
       "        [1.0273],\n",
       "        [1.0488],\n",
       "        [1.0703],\n",
       "        [1.0918],\n",
       "        [1.1133],\n",
       "        [1.1348]])"
      ]
     },
     "execution_count": 129,
     "metadata": {},
     "output_type": "execute_result"
    }
   ],
   "source": [
    "# Make predictions with model\n",
    "with torch.inference_mode(): #inference mode turns off gradiant descent tracking\n",
    "    y_preds = model_0(X_test)\n",
    "\n",
    "#plot_predictions(predictions=y_preds)\n",
    "y_preds"
   ]
  },
  {
   "cell_type": "code",
   "execution_count": 130,
   "id": "9ce21ddb-924a-4279-9054-1d26732d9dca",
   "metadata": {},
   "outputs": [
    {
     "data": {
      "text/plain": [
       "tensor([[0.9413],\n",
       "        [0.9628],\n",
       "        [0.9843],\n",
       "        [1.0058],\n",
       "        [1.0273],\n",
       "        [1.0488],\n",
       "        [1.0703],\n",
       "        [1.0918],\n",
       "        [1.1133],\n",
       "        [1.1348]], grad_fn=<AddBackward0>)"
      ]
     },
     "execution_count": 130,
     "metadata": {},
     "output_type": "execute_result"
    }
   ],
   "source": [
    "y_preds = model_0(X_test)\n",
    "\n",
    "y_preds"
   ]
  },
  {
   "cell_type": "markdown",
   "id": "dfe037b2-332b-435d-af26-6a6aa2641141",
   "metadata": {},
   "source": [
    "## 3. Train model\n",
    "\n",
    "Purpose of training is for model to move from *unknown* parametersto *known* parameters.\n",
    "From poor representation to better representation.\n",
    "\n",
    "\n",
    "Measure how poor models predictions are to use loss functions/cost function/criterion\n",
    "\n",
    "Loss function: measure how wrong the model's prediction is\n",
    "Optimiser: takes into account the loss of a model and adjusts the model's paremeters to improve the loss function\n",
    "\n",
    "PyTorch need Training loop and Testing loop"
   ]
  },
  {
   "cell_type": "code",
   "execution_count": 131,
   "id": "163b8ba4-2045-46f3-9b0d-bca5cef8012a",
   "metadata": {},
   "outputs": [
    {
     "data": {
      "text/plain": [
       "[Parameter containing:\n",
       " tensor([1.0752], requires_grad=True),\n",
       " Parameter containing:\n",
       " tensor([0.0811], requires_grad=True)]"
      ]
     },
     "execution_count": 131,
     "metadata": {},
     "output_type": "execute_result"
    }
   ],
   "source": [
    "list(model_0.parameters())"
   ]
  },
  {
   "cell_type": "code",
   "execution_count": 132,
   "id": "c2378109-942b-4dbe-9fff-d12cd029df9b",
   "metadata": {},
   "outputs": [],
   "source": [
    "# Setup loss function\n",
    "loss_fn = nn.L1Loss() #measure how wrong the model is\n",
    "\n",
    "# setup optimiser (stochastic gradient descent)\n",
    "# lr = learning rate\n",
    "optimiser = torch.optim.SGD(params=model_0.parameters(), lr=0.0001) #communicates with loss function and changes parameters in an attempt to improve accuracy"
   ]
  },
  {
   "cell_type": "markdown",
   "id": "97ddd156-59f9-41f8-84d0-41527fb23481",
   "metadata": {},
   "source": [
    "### Building a training (and testing) loop in PyTorch\n",
    "\n",
    "Things needed in a training loop\n",
    "0. Loop through the data\n",
    "1. Forward pass (this involves data moving through mour model's `forward()` functions) - also called forward propagation\n",
    "2. Calculate the loss (compare forward pass predictions to ground truth labels)\n",
    "3. Optimiser zero grad\n",
    "4. Loss backward - move backwards through the network to calculate the gradients of each of the parameters of our model with respect to the loss\n",
    "5. Optimiser step"
   ]
  },
  {
   "cell_type": "code",
   "execution_count": 133,
   "id": "c134e080-b5a5-4716-add3-9286b98bf287",
   "metadata": {},
   "outputs": [
    {
     "data": {
      "image/png": "[encoded data removed]",
      "text/plain": [
       "<Figure size 1000x700 with 1 Axes>"
      ]
     },
     "metadata": {},
     "output_type": "display_data"
    }
   ],
   "source": [
    "with torch.inference_mode():\n",
    "    y_preds_new = model_0(X_test)\n",
    "    plot_predictions(predictions=y_preds_new)"
   ]
  },
  {
   "cell_type": "code",
   "execution_count": 134,
   "id": "6a235d66-9822-4ef8-953c-2b82101fab0b",
   "metadata": {},
   "outputs": [
    {
     "name": "stdout",
     "output_type": "stream",
     "text": [
      "0 | 0.2035311460494995 | 0.5609552264213562\n",
      "1000 | 0.16995388269424438 | 0.48412901163101196\n",
      "2000 | 0.15102875232696533 | 0.4262520670890808\n",
      "3000 | 0.13992826640605927 | 0.3829672634601593\n",
      "4000 | 0.1327294558286667 | 0.35005730390548706\n",
      "5000 | 0.12767693400382996 | 0.3255494236946106\n",
      "6000 | 0.1236715093255043 | 0.3077252507209778\n",
      "7000 | 0.1198759526014328 | 0.2926766574382782\n",
      "8000 | 0.11638589203357697 | 0.281655490398407\n",
      "9000 | 0.11289580911397934 | 0.2706342935562134\n",
      "10000 | 0.10940574109554291 | 0.2596130669116974\n",
      "11000 | 0.1059156209230423 | 0.2485928237438202\n",
      "12000 | 0.10246223211288452 | 0.2395780384540558\n",
      "13000 | 0.0990268811583519 | 0.23154714703559875\n",
      "14000 | 0.0955914855003357 | 0.2235163152217865\n",
      "15000 | 0.09215612709522247 | 0.21548199653625488\n",
      "16000 | 0.08872073143720627 | 0.20745117962360382\n",
      "17000 | 0.08528541773557663 | 0.19941680133342743\n",
      "18000 | 0.08185005187988281 | 0.1913849413394928\n",
      "19000 | 0.07841472327709198 | 0.1833496391773224\n",
      "20000 | 0.07497940957546234 | 0.17531776428222656\n",
      "21000 | 0.07154402136802673 | 0.16728249192237854\n",
      "22000 | 0.06810867786407471 | 0.15925398468971252\n",
      "23000 | 0.06467331945896149 | 0.15121528506278992\n",
      "24000 | 0.06123803183436394 | 0.14318685233592987\n",
      "25000 | 0.05780266597867012 | 0.13515499234199524\n",
      "26000 | 0.0543673038482666 | 0.127123162150383\n",
      "27000 | 0.05093201994895935 | 0.1190878301858902\n",
      "28000 | 0.04749666154384613 | 0.11105601489543915\n",
      "29000 | 0.04406129568815231 | 0.10302414000034332\n",
      "30000 | 0.04062601178884506 | 0.09498890489339828\n",
      "31000 | 0.03719031438231468 | 0.0869576707482338\n",
      "32000 | 0.033754684031009674 | 0.07891950756311417\n",
      "33000 | 0.030319074168801308 | 0.0708882063627243\n",
      "34000 | 0.026883363723754883 | 0.06285691261291504\n",
      "35000 | 0.023447735235095024 | 0.054818786680698395\n",
      "36000 | 0.020012062042951584 | 0.04678407311439514\n",
      "37000 | 0.016576457768678665 | 0.038752783089876175\n",
      "38000 | 0.0131407855078578 | 0.030718067660927773\n",
      "39000 | 0.009705161675810814 | 0.022686785086989403\n",
      "40000 | 0.006269511766731739 | 0.014652055688202381\n",
      "41000 | 0.002833835780620575 | 0.00662077683955431\n",
      "42000 | 4.500448631006293e-05 | 0.00010865926742553711\n",
      "43000 | 4.500448631006293e-05 | 0.00010865926742553711\n",
      "44000 | 4.500448631006293e-05 | 0.00010865926742553711\n",
      "45000 | 4.500448631006293e-05 | 0.00010865926742553711\n",
      "46000 | 4.500448631006293e-05 | 0.00010865926742553711\n",
      "47000 | 4.500448631006293e-05 | 0.00010865926742553711\n",
      "48000 | 4.500448631006293e-05 | 0.00010865926742553711\n",
      "49000 | 4.500448631006293e-05 | 0.00010865926742553711\n"
     ]
    }
   ],
   "source": [
    "# An epoch is one loop throguh the data\n",
    "epochs = 50000\n",
    "\n",
    "# Track different values\n",
    "epoch_count = []\n",
    "loss_values = []\n",
    "test_loss_values = []\n",
    "\n",
    "### Training\n",
    "#0 loop through data\n",
    "for epoch in range(epochs):\n",
    "    # Set the model to training mode\n",
    "    model_0.train() #sets all parameters that require gradients to require gradients\n",
    "\n",
    "    # 1. Forward propagation\n",
    "    y_pred = model_0(X_train)\n",
    "\n",
    "    # 2. Calculate loss (Mean Absolute Error)\n",
    "    loss = loss_fn(y_pred, y_train) #param1 - prediction/input param2 - train/target\n",
    "    # 3. Optimiser zero grad\n",
    "    optimiser.zero_grad()\n",
    "\n",
    "    # 4. Perform backpropagation on the loss with respect to the parameters of the model\n",
    "    loss.backward()\n",
    "\n",
    "    # 5. Step through optimiser (perform gradient descent)\n",
    "    optimiser.step() # by default, changes will accumulate through the loop, so have to zero them in step 3\n",
    "\n",
    "    ### Testing\n",
    "    model_0.eval() #turns off different settings in the model not needed for evaluation/testing (dropout/batch norm layers)\n",
    "    with torch.inference_mode(): # turns off gradient tracking which is only needed for training\n",
    "        # 1. Forward pass\n",
    "        test_pred = model_0(X_test)\n",
    "\n",
    "        # 2. Calculate the loss\n",
    "        test_loss = loss_fn(test_pred, y_test)\n",
    "\n",
    "    if epoch % 1000 == 0:\n",
    "        epoch_count.append(epoch)\n",
    "        loss_values.append(loss)\n",
    "        test_loss_values.append(test_loss)\n",
    "        print(f\"{epoch} | {loss} | {test_loss}\")\n"
   ]
  },
  {
   "cell_type": "code",
   "execution_count": 135,
   "id": "74a99a70-0e88-4f25-94ef-da8dbcefd2e9",
   "metadata": {},
   "outputs": [
    {
     "data": {
      "image/png": "[encoded data removed]",
      "text/plain": [
       "<Figure size 1000x700 with 1 Axes>"
      ]
     },
     "metadata": {},
     "output_type": "display_data"
    }
   ],
   "source": [
    "with torch.inference_mode():\n",
    "    y_preds_new = model_0(X_test)\n",
    "    plot_predictions(predictions=y_preds_new)"
   ]
  },
  {
   "cell_type": "code",
   "execution_count": 136,
   "id": "ff9c3543-b899-414f-bd28-45a92598d328",
   "metadata": {},
   "outputs": [
    {
     "data": {
      "text/plain": [
       "OrderedDict([('weights', tensor([0.3000])), ('bias', tensor([0.2099]))])"
      ]
     },
     "execution_count": 136,
     "metadata": {},
     "output_type": "execute_result"
    }
   ],
   "source": [
    "model_0.state_dict()"
   ]
  },
  {
   "cell_type": "code",
   "execution_count": 137,
   "id": "544d6963-3d6f-4fad-9f05-f83f69c9a799",
   "metadata": {},
   "outputs": [
    {
     "data": {
      "text/plain": [
       "(0.7, 0.3)"
      ]
     },
     "execution_count": 137,
     "metadata": {},
     "output_type": "execute_result"
    }
   ],
   "source": [
    "weight, bias"
   ]
  },
  {
   "cell_type": "code",
   "execution_count": 138,
   "id": "9b7a9ebb-f40b-4472-9ccd-8fbec70339d5",
   "metadata": {},
   "outputs": [
    {
     "data": {
      "text/plain": [
       "array([2.03531146e-01, 1.69953883e-01, 1.51028752e-01, 1.39928266e-01,\n",
       "       1.32729456e-01, 1.27676934e-01, 1.23671509e-01, 1.19875953e-01,\n",
       "       1.16385892e-01, 1.12895809e-01, 1.09405741e-01, 1.05915621e-01,\n",
       "       1.02462232e-01, 9.90268812e-02, 9.55914855e-02, 9.21561271e-02,\n",
       "       8.87207314e-02, 8.52854177e-02, 8.18500519e-02, 7.84147233e-02,\n",
       "       7.49794096e-02, 7.15440214e-02, 6.81086779e-02, 6.46733195e-02,\n",
       "       6.12380318e-02, 5.78026660e-02, 5.43673038e-02, 5.09320199e-02,\n",
       "       4.74966615e-02, 4.40612957e-02, 4.06260118e-02, 3.71903144e-02,\n",
       "       3.37546840e-02, 3.03190742e-02, 2.68833637e-02, 2.34477352e-02,\n",
       "       2.00120620e-02, 1.65764578e-02, 1.31407855e-02, 9.70516168e-03,\n",
       "       6.26951177e-03, 2.83383578e-03, 4.50044863e-05, 4.50044863e-05,\n",
       "       4.50044863e-05, 4.50044863e-05, 4.50044863e-05, 4.50044863e-05,\n",
       "       4.50044863e-05, 4.50044863e-05], dtype=float32)"
      ]
     },
     "execution_count": 138,
     "metadata": {},
     "output_type": "execute_result"
    }
   ],
   "source": [
    "import numpy as np\n",
    "np.array(torch.tensor(loss_values).numpy())"
   ]
  },
  {
   "cell_type": "code",
   "execution_count": 139,
   "id": "3ee39cff-cf1b-4804-a305-2405d8a9fa72",
   "metadata": {},
   "outputs": [
    {
     "data": {
      "text/plain": [
       "<matplotlib.legend.Legend at 0x24ff9e47710>"
      ]
     },
     "execution_count": 139,
     "metadata": {},
     "output_type": "execute_result"
    },
    {
     "data": {
      "image/png": "[encoded data removed]",
      "text/plain": [
       "<Figure size 640x480 with 1 Axes>"
      ]
     },
     "metadata": {},
     "output_type": "display_data"
    }
   ],
   "source": [
    "import numpy as np\n",
    "\n",
    "# plot loss curves\n",
    "plt.plot(epoch_count, np.array(torch.tensor(loss_values).cpu().numpy()), label=\"Train Loss\")\n",
    "plt.plot(epoch_count, np.array(torch.tensor(test_loss_values).cpu().numpy()), label=\"Test Loss\")\n",
    "plt.title(\"Training and Loss Curves\")\n",
    "plt.ylabel(\"Loss\")\n",
    "plt.xlabel(\"Epochs\")\n",
    "plt.legend()"
   ]
  },
  {
   "cell_type": "markdown",
   "id": "394bee53-59b8-45de-98c3-2105ed19e275",
   "metadata": {},
   "source": [
    "## Saving a model in PyTorch\n",
    "\n",
    "Three main methods for saving and loading models in PyTorch\n",
    "\n",
    "1. `torch.save()` - allows you to save a PyTorch object in Python pickle format\n",
    "2. `torch.load()` - allows you to load a save PyTorch object\n",
    "3. `torch.nn.Module.load_state_dict()` - allows you to load a model's saved state dictionary"
   ]
  },
  {
   "cell_type": "code",
   "execution_count": 146,
   "id": "0c975ec9-aeed-46f7-82fd-fda8b5684e6f",
   "metadata": {},
   "outputs": [
    {
     "data": {
      "text/plain": [
       "OrderedDict([('weights', tensor([0.3000])), ('bias', tensor([0.2099]))])"
      ]
     },
     "execution_count": 146,
     "metadata": {},
     "output_type": "execute_result"
    }
   ],
   "source": [
    "from pathlib import Path\n",
    "\n",
    "#1 create models directory\n",
    "MODEL_PATH = Path(\"models\")\n",
    "MODEL_PATH.mkdir(parents=True, exist_ok=True)\n",
    "\n",
    "# 2. create model save path\n",
    "MODEL_NAME = \"01_pytorch_workflow_model_0.pt\"\n",
    "MODEL_SAVE_PATH = MODEL_PATH / MODEL_NAME\n",
    "\n",
    "\n",
    "torch.save(model_0.state_dict(), MODEL_SAVE_PATH)\n",
    "\n",
    "test_model = LinearRegressionModel()\n",
    "test_model.load_state_dict(torch.load(MODEL_SAVE_PATH))\n",
    "test_model.state_dict()"
   ]
  },
  {
   "cell_type": "markdown",
   "id": "f064013f-0929-491c-9ac9-d0949a601f86",
   "metadata": {},
   "source": [
    "# 6. Putting it all together"
   ]
  },
  {
   "cell_type": "code",
   "execution_count": 149,
   "id": "843033c6-de0b-4193-80c2-80cce104ad82",
   "metadata": {},
   "outputs": [],
   "source": [
    "import torch\n",
    "from torch import nn\n",
    "import matplotlib.pyplot as plt\n",
    "import numpy as np"
   ]
  },
  {
   "cell_type": "code",
   "execution_count": 150,
   "id": "3af9342e-2bed-40b9-9788-e57627431c63",
   "metadata": {},
   "outputs": [],
   "source": [
    "device = \"cuda\" if torch.cuda.is_available() else \"cpu\"\n"
   ]
  },
  {
   "cell_type": "code",
   "execution_count": 171,
   "id": "964a1153-2c0e-4646-9f89-f470f37d341a",
   "metadata": {},
   "outputs": [],
   "source": [
    "weight = 0.4\n",
    "bias = 0.6\n",
    "\n",
    "start = 0\n",
    "end = 1\n",
    "step = 0.03\n",
    "\n",
    "X = torch.arange(start, end, step).unsqueeze(dim=1)\n",
    "y = weight * X + bias"
   ]
  },
  {
   "cell_type": "code",
   "execution_count": 175,
   "id": "2332129a-9868-4413-8132-849ee23cd2ec",
   "metadata": {},
   "outputs": [],
   "source": [
    "train_split = int(0.8* len(X))\n",
    "X_train, y_train = X[:train_split], y[:train_split]\n",
    "X_test, y_test = X[train_split:], y[train_split:]\n",
    "\n",
    "X_train = X_train.to(device)\n",
    "X_test = X_test.to(device)\n",
    "y_train = y_train.to(device)\n",
    "y_test = y_test.to(device)\n",
    "#plot_predictions(X_train, y_train, X_test, y_test)"
   ]
  },
  {
   "cell_type": "code",
   "execution_count": 176,
   "id": "f2d3ac82-9ce5-405b-a852-09e8669bc512",
   "metadata": {},
   "outputs": [
    {
     "data": {
      "text/plain": [
       "LinearRegressionModelV2(\n",
       "  (linear_layer): Linear(in_features=1, out_features=1, bias=True)\n",
       ")"
      ]
     },
     "execution_count": 176,
     "metadata": {},
     "output_type": "execute_result"
    }
   ],
   "source": [
    "class LinearRegressionModelV2(nn.Module):\n",
    "    def __init__(self):\n",
    "        super().__init__()\n",
    "\n",
    "        #uses linear regression formula. linear layer/ linear transform\n",
    "        self.linear_layer = nn.Linear(\n",
    "                                        in_features=1, #features in\n",
    "                                        out_features=1 #features out\n",
    "                                     )\n",
    "\n",
    "    def forward(self, x: torch.Tensor) -> torch.Tensor:\n",
    "        return self.linear_layer(x)\n",
    "\n",
    "torch.manual_seed(42)\n",
    "\n",
    "model_1 = LinearRegressionModelV2()\n",
    "model_1.to(device)"
   ]
  },
  {
   "cell_type": "code",
   "execution_count": 177,
   "id": "42068713-78b6-4a1e-9f4f-34f3621ddd13",
   "metadata": {},
   "outputs": [
    {
     "name": "stdout",
     "output_type": "stream",
     "text": [
      "0 | 0.3721778988838196 | 0.5567415952682495\n",
      "500 | 0.040193505585193634 | 0.099981389939785\n",
      "1000 | 0.0224531851708889 | 0.05288585647940636\n",
      "1500 | 0.004880816675722599 | 0.01139347068965435\n"
     ]
    }
   ],
   "source": [
    "loss_fn = nn.L1Loss() # MAE\n",
    "optimiser = torch.optim.SGD(\n",
    "    params=model_1.parameters(), \n",
    "    lr=0.001\n",
    ")\n",
    "\n",
    "epochs = 2000\n",
    "\n",
    "for epoch in range(epochs):\n",
    "    model_1.train()\n",
    "\n",
    "    y_pred = model_1(X_train)\n",
    "    \n",
    "    loss = loss_fn(y_pred, y_train)\n",
    "\n",
    "    optimiser.zero_grad()\n",
    "\n",
    "    loss.backward()\n",
    "\n",
    "    optimiser.step()\n",
    "\n",
    "    \n",
    "    model_1.eval()\n",
    "\n",
    "    with torch.inference_mode():\n",
    "        test_pred = model_1(X_test)\n",
    "        test_loss = loss_fn(test_pred, y_test)\n",
    "\n",
    "    if epoch % 500 == 0:\n",
    "        print(f\"{epoch} | {loss} | {test_loss}\")"
   ]
  },
  {
   "cell_type": "code",
   "execution_count": 178,
   "id": "f467b894-3898-4af5-9065-bdac83848a6c",
   "metadata": {},
   "outputs": [
    {
     "data": {
      "text/plain": [
       "OrderedDict([('linear_layer.weight', tensor([[0.4004]])),\n",
       "             ('linear_layer.bias', tensor([0.5995]))])"
      ]
     },
     "execution_count": 178,
     "metadata": {},
     "output_type": "execute_result"
    }
   ],
   "source": [
    "model_1.state_dict()"
   ]
  },
  {
   "cell_type": "code",
   "execution_count": null,
   "id": "274fbbaf-b023-4367-9e8e-389d5605eee5",
   "metadata": {},
   "outputs": [],
   "source": []
  },
  {
   "cell_type": "code",
   "execution_count": null,
   "id": "c55dd11e-0e07-46ba-81e4-9eea77bf9df8",
   "metadata": {},
   "outputs": [],
   "source": []
  },
  {
   "cell_type": "code",
   "execution_count": null,
   "id": "9066c0c6-e0af-4652-9221-9054d163e33e",
   "metadata": {},
   "outputs": [],
   "source": []
  },
  {
   "cell_type": "code",
   "execution_count": null,
   "id": "dff9c86a-ac87-425f-aabb-2e33c3148389",
   "metadata": {},
   "outputs": [],
   "source": []
  },
  {
   "cell_type": "code",
   "execution_count": null,
   "id": "835b9ba5-06e2-43a2-80d8-cf542681672b",
   "metadata": {},
   "outputs": [],
   "source": []
  },
  {
   "cell_type": "code",
   "execution_count": null,
   "id": "c86c5459-0c66-48c5-81a5-d9ee96bc767e",
   "metadata": {},
   "outputs": [],
   "source": []
  },
  {
   "cell_type": "code",
   "execution_count": null,
   "id": "4dac31e3-5999-4a5d-a856-b69389742f9e",
   "metadata": {},
   "outputs": [],
   "source": []
  },
  {
   "cell_type": "code",
   "execution_count": null,
   "id": "65d906ad-6443-42f9-85d6-8c02ec9b60ad",
   "metadata": {},
   "outputs": [],
   "source": []
  },
  {
   "cell_type": "code",
   "execution_count": null,
   "id": "a763e00c-21cf-4942-adab-bc7603b136cf",
   "metadata": {},
   "outputs": [],
   "source": []
  },
  {
   "cell_type": "code",
   "execution_count": null,
   "id": "257e97b5-6d63-4379-bc6b-221fe079b336",
   "metadata": {},
   "outputs": [],
   "source": []
  },
  {
   "cell_type": "code",
   "execution_count": null,
   "id": "57ccb44e-9329-48b3-b148-ffef5e46740c",
   "metadata": {},
   "outputs": [],
   "source": []
  },
  {
   "cell_type": "code",
   "execution_count": null,
   "id": "66f364aa-a9c5-4733-9a06-ec8ea446184f",
   "metadata": {},
   "outputs": [],
   "source": []
  },
  {
   "cell_type": "code",
   "execution_count": null,
   "id": "fb5eace8-f9d6-40e4-ab30-63586570e88f",
   "metadata": {},
   "outputs": [],
   "source": []
  }
 ],
 "metadata": {
  "kernelspec": {
   "display_name": "Python 3 (ipykernel)",
   "language": "python",
   "name": "python3"
  },
  "language_info": {
   "codemirror_mode": {
    "name": "ipython",
    "version": 3
   },
   "file_extension": ".py",
   "mimetype": "text/x-python",
   "name": "python",
   "nbconvert_exporter": "python",
   "pygments_lexer": "ipython3",
   "version": "3.12.2"
  }
 },
 "nbformat": 4,
 "nbformat_minor": 5
}
