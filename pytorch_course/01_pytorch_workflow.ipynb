{
 "cells": [
  {
   "cell_type": "markdown",
   "id": "22d65c43-d420-48f1-9ce7-19e3c6170d13",
   "metadata": {},
   "source": [
    "# PyTorch Workflow\n",
    "An example PyTorch end-to-end workflow"
   ]
  },
  {
   "cell_type": "code",
   "execution_count": 1,
   "id": "55eee870-268f-40a8-b3ac-794d4b42ccae",
   "metadata": {},
   "outputs": [
    {
     "data": {
      "text/plain": [
       "{1: 'data (prepare and load)',\n",
       " 2: 'build model',\n",
       " 3: 'fitting the model to data (training)',\n",
       " 4: 'making predictions and evaluating a model (inference)',\n",
       " 5: 'saving and loading a model',\n",
       " 6: 'pytting it all together'}"
      ]
     },
     "execution_count": 1,
     "metadata": {},
     "output_type": "execute_result"
    }
   ],
   "source": [
    "what_we_are_covering = {\n",
    "    1: \"data (prepare and load)\", \n",
    "    2: \"build model\", \n",
    "    3: \"fitting the model to data (training)\", \n",
    "    4: \"making predictions and evaluating a model (inference)\",\n",
    "    5: \"saving and loading a model\",\n",
    "    6: \"pytting it all together\"\n",
    "}\n",
    "what_we_are_covering"
   ]
  },
  {
   "cell_type": "code",
   "execution_count": 3,
   "id": "be77a96e-e68d-4194-b241-6693e3fc5e23",
   "metadata": {},
   "outputs": [
    {
     "data": {
      "text/plain": [
       "'2.2.2+cpu'"
      ]
     },
     "execution_count": 3,
     "metadata": {},
     "output_type": "execute_result"
    }
   ],
   "source": [
    "import torch\n",
    "from torch import nn # nn contains all PyTorch building blocks for neural networks computational graph\n",
    "import matplotlib.pyplot as plt\n",
    "\n",
    "torch.__version__"
   ]
  },
  {
   "cell_type": "markdown",
   "id": "cf85dc78-6034-4d96-a7f3-c5d6a5e36520",
   "metadata": {},
   "source": [
    "## 1. Data (preparing and loading)\n",
    "\n",
    "Data can be almost anything in machine learning.\n",
    "* Excel spreadsheet\n",
    "* Images\n",
    "* Videos\n",
    "* Audio\n",
    "* DNA\n",
    "* Text\n",
    "\n",
    "Machine learning is a game of two parts:\n",
    "1. Get data into a numerical representation: Inputs (data of any kinds) -> Numerical encoding\n",
    "2. Build a model to learn patterns in that numberical representation: Learns representation (patterns/features/weights) -> Representation output\n",
    "\n",
    "Creating known data usng the linear regression formula\n",
    "\n",
    "Use a linear regression formula to make a straight line with kown **parameters**\n",
    "\n",
    "Y = a + bX"
   ]
  },
  {
   "cell_type": "code",
   "execution_count": 10,
   "id": "93068c55-9ed6-4b87-a194-463f79844615",
   "metadata": {},
   "outputs": [
    {
     "data": {
      "text/plain": [
       "(tensor([[0.0000],\n",
       "         [0.0200],\n",
       "         [0.0400],\n",
       "         [0.0600],\n",
       "         [0.0800],\n",
       "         [0.1000],\n",
       "         [0.1200],\n",
       "         [0.1400],\n",
       "         [0.1600],\n",
       "         [0.1800]]),\n",
       " tensor([[0.2100],\n",
       "         [0.2160],\n",
       "         [0.2220],\n",
       "         [0.2280],\n",
       "         [0.2340],\n",
       "         [0.2400],\n",
       "         [0.2460],\n",
       "         [0.2520],\n",
       "         [0.2580],\n",
       "         [0.2640]]),\n",
       " 50,\n",
       " 50)"
      ]
     },
     "execution_count": 10,
     "metadata": {},
     "output_type": "execute_result"
    }
   ],
   "source": [
    "# Create known parameters\n",
    "bias = 0.3 #a\n",
    "weight = 0.7 #b\n",
    "\n",
    "# create\n",
    "start = 0\n",
    "end = 1\n",
    "step = 0.02\n",
    "X = torch.arange(start, end, step).unsqueeze(dim=1)\n",
    "y = bias * (X + weight)\n",
    "\n",
    "X[:10], y[:10], len(X), len(y)"
   ]
  },
  {
   "cell_type": "markdown",
   "id": "80d30142-9a8e-44b6-b22b-ed28835e2dac",
   "metadata": {},
   "source": [
    "### Splitting data into training and test sets\n",
    "\n",
    "Three datasets\n",
    "1. Training Set/Split - model learns patterns\n",
    "2. Validation Set/Split - tune model and retrain to learn patterns\n",
    "3. Test Set/Split - see if the trained model can accurately predict unseen material\n",
    "\n",
    "Generalisation - the ability for a marhine leaarning model to perform well on data it hasn't seen before"
   ]
  },
  {
   "cell_type": "code",
   "execution_count": 14,
   "id": "81900a55-3150-4668-adf7-66d7862bd8b5",
   "metadata": {},
   "outputs": [
    {
     "data": {
      "text/plain": [
       "(tensor([[0.0000],\n",
       "         [0.0200],\n",
       "         [0.0400],\n",
       "         [0.0600],\n",
       "         [0.0800],\n",
       "         [0.1000],\n",
       "         [0.1200],\n",
       "         [0.1400],\n",
       "         [0.1600],\n",
       "         [0.1800],\n",
       "         [0.2000],\n",
       "         [0.2200],\n",
       "         [0.2400],\n",
       "         [0.2600],\n",
       "         [0.2800],\n",
       "         [0.3000],\n",
       "         [0.3200],\n",
       "         [0.3400],\n",
       "         [0.3600],\n",
       "         [0.3800],\n",
       "         [0.4000],\n",
       "         [0.4200],\n",
       "         [0.4400],\n",
       "         [0.4600],\n",
       "         [0.4800],\n",
       "         [0.5000],\n",
       "         [0.5200],\n",
       "         [0.5400],\n",
       "         [0.5600],\n",
       "         [0.5800],\n",
       "         [0.6000],\n",
       "         [0.6200],\n",
       "         [0.6400],\n",
       "         [0.6600],\n",
       "         [0.6800],\n",
       "         [0.7000],\n",
       "         [0.7200],\n",
       "         [0.7400],\n",
       "         [0.7600],\n",
       "         [0.7800]]),\n",
       " tensor([[0.2100],\n",
       "         [0.2160],\n",
       "         [0.2220],\n",
       "         [0.2280],\n",
       "         [0.2340],\n",
       "         [0.2400],\n",
       "         [0.2460],\n",
       "         [0.2520],\n",
       "         [0.2580],\n",
       "         [0.2640],\n",
       "         [0.2700],\n",
       "         [0.2760],\n",
       "         [0.2820],\n",
       "         [0.2880],\n",
       "         [0.2940],\n",
       "         [0.3000],\n",
       "         [0.3060],\n",
       "         [0.3120],\n",
       "         [0.3180],\n",
       "         [0.3240],\n",
       "         [0.3300],\n",
       "         [0.3360],\n",
       "         [0.3420],\n",
       "         [0.3480],\n",
       "         [0.3540],\n",
       "         [0.3600],\n",
       "         [0.3660],\n",
       "         [0.3720],\n",
       "         [0.3780],\n",
       "         [0.3840],\n",
       "         [0.3900],\n",
       "         [0.3960],\n",
       "         [0.4020],\n",
       "         [0.4080],\n",
       "         [0.4140],\n",
       "         [0.4200],\n",
       "         [0.4260],\n",
       "         [0.4320],\n",
       "         [0.4380],\n",
       "         [0.4440]]),\n",
       " tensor([[0.8000],\n",
       "         [0.8200],\n",
       "         [0.8400],\n",
       "         [0.8600],\n",
       "         [0.8800],\n",
       "         [0.9000],\n",
       "         [0.9200],\n",
       "         [0.9400],\n",
       "         [0.9600],\n",
       "         [0.9800]]),\n",
       " tensor([[0.4500],\n",
       "         [0.4560],\n",
       "         [0.4620],\n",
       "         [0.4680],\n",
       "         [0.4740],\n",
       "         [0.4800],\n",
       "         [0.4860],\n",
       "         [0.4920],\n",
       "         [0.4980],\n",
       "         [0.5040]]))"
      ]
     },
     "execution_count": 14,
     "metadata": {},
     "output_type": "execute_result"
    }
   ],
   "source": [
    "# Create a train/test split\n",
    "train_split = int(0.8 * len(X))\n",
    "X_train, y_train = X[:train_split], y[:train_split]\n",
    "X_test, y_test = X[train_split:], y[train_split:]\n",
    "\n",
    "X_train, y_train, X_test, y_test"
   ]
  },
  {
   "cell_type": "code",
   "execution_count": 42,
   "id": "a0c39d3d-ea38-4c0e-9b5b-5958a7a64b26",
   "metadata": {},
   "outputs": [
    {
     "data": {
      "image/png": "[encoded data removed]",
      "text/plain": [
       "<Figure size 1000x700 with 1 Axes>"
      ]
     },
     "metadata": {},
     "output_type": "display_data"
    }
   ],
   "source": [
    "def plot_predictions(\n",
    "    train_data=X_train, \n",
    "    train_labels=y_train, \n",
    "    test_data=X_test, \n",
    "    test_labels=y_test, \n",
    "    predictions=None):\n",
    "    \n",
    "    plt.figure(figsize=(10,7))\n",
    "\n",
    "    plt.scatter(train_data, train_labels, c=\"b\", s=4, label=\"Training data\")\n",
    "    plt.scatter(test_data, test_labels, c=\"g\", s=4, label=\"Testing data\")\n",
    "\n",
    "    if predictions is not None:\n",
    "        plt.scatter(test_data, predictions, c=\"r\", s=4, label=\"Predictions\")\n",
    "    \n",
    "    plt.legend(prop={\"size\":14})\n",
    "\n",
    "\n",
    "plot_predictions()"
   ]
  },
  {
   "cell_type": "markdown",
   "id": "6369868a-680e-4045-a5ff-740c7adf6ee7",
   "metadata": {},
   "source": [
    "## 2. Build Model\n",
    "\n",
    "What model does\n",
    "* Start with random values (weight and bias)\n",
    "* Look at our training data and adjust the random values to better represent (or get closer to) the ideal values (weight and bias values we used to create the data)\n",
    "\n",
    "Two main algorithms:\n",
    "1. Gradient descent\n",
    "2. Backpropagation"
   ]
  },
  {
   "cell_type": "code",
   "execution_count": 34,
   "id": "e7b9c667-b142-4879-8139-0a52baf19b6f",
   "metadata": {},
   "outputs": [],
   "source": [
    "from torch import nn\n",
    "\n",
    "# Create linear regression model class\n",
    "class LinearRegressionModel(nn.Module): # Base class for all neural network models\n",
    "    def __init__(self):\n",
    "        super().__init__()\n",
    "        # Parameter - a kind of Tensore that is to be considered a module parameter\n",
    "\n",
    "        #random weights and bias created\n",
    "        self.weights = nn.Parameter(torch.randn(\n",
    "            1, #random weight\n",
    "            requires_grad=True, # parameter can be updata via gradient descent\n",
    "            dtype=torch.float\n",
    "        ))\n",
    "        self.bias =  nn.Parameter(torch.randn(\n",
    "            1, \n",
    "            requires_grad=True, # requires gradient\n",
    "            dtype=torch.float\n",
    "        ))\n",
    "\n",
    "    #machine learning uses forward for training and uses random weights and bias\n",
    "    def forward(self, x: torch.Tensor) -> torch.Tensor: # x is the input data\n",
    "        return self.weights * x + self.bias # linear regression formula\n",
    "                                \n",
    "    "
   ]
  },
  {
   "cell_type": "code",
   "execution_count": 48,
   "id": "549a9db2-ab23-4883-9a14-3c1e9947ef99",
   "metadata": {},
   "outputs": [
    {
     "data": {
      "text/plain": [
       "[Parameter containing:\n",
       " tensor([-1.1229], requires_grad=True),\n",
       " Parameter containing:\n",
       " tensor([-0.1863], requires_grad=True)]"
      ]
     },
     "execution_count": 48,
     "metadata": {},
     "output_type": "execute_result"
    }
   ],
   "source": [
    "#torch.manual_seed(42)\n",
    "\n",
    "model_0 = LinearRegressionModel()\n",
    "\n",
    "list(model_0.parameters())"
   ]
  },
  {
   "cell_type": "code",
   "execution_count": 36,
   "id": "b408789d-d573-4c94-9366-55733c546a0b",
   "metadata": {},
   "outputs": [
    {
     "data": {
      "text/plain": [
       "OrderedDict([('weights', tensor([0.3367])), ('bias', tensor([0.1288]))])"
      ]
     },
     "execution_count": 36,
     "metadata": {},
     "output_type": "execute_result"
    }
   ],
   "source": [
    "model_0.state_dict()"
   ]
  },
  {
   "cell_type": "markdown",
   "id": "ac5e64a8-69ad-4046-8efd-138e036744ed",
   "metadata": {},
   "source": [
    "### Making predictions using `torch.inference_mode()`\n",
    "\n",
    "Check model's prediction using y_test based on X_test"
   ]
  },
  {
   "cell_type": "code",
   "execution_count": 53,
   "id": "456618e2-99f6-4cfd-9dd7-1f147db2540a",
   "metadata": {},
   "outputs": [
    {
     "data": {
      "text/plain": [
       "tensor([[-1.0846],\n",
       "        [-1.1071],\n",
       "        [-1.1295],\n",
       "        [-1.1520],\n",
       "        [-1.1744],\n",
       "        [-1.1969],\n",
       "        [-1.2194],\n",
       "        [-1.2418],\n",
       "        [-1.2643],\n",
       "        [-1.2867]])"
      ]
     },
     "execution_count": 53,
     "metadata": {},
     "output_type": "execute_result"
    }
   ],
   "source": [
    "# Make predictions with model\n",
    "with torch.inference_mode(): #inference mode turns off gradiant descent tracking\n",
    "    y_preds = model_0(X_test)\n",
    "\n",
    "#plot_predictions(predictions=y_preds)\n",
    "y_preds"
   ]
  },
  {
   "cell_type": "code",
   "execution_count": 54,
   "id": "9ce21ddb-924a-4279-9054-1d26732d9dca",
   "metadata": {},
   "outputs": [
    {
     "data": {
      "text/plain": [
       "tensor([[-1.0846],\n",
       "        [-1.1071],\n",
       "        [-1.1295],\n",
       "        [-1.1520],\n",
       "        [-1.1744],\n",
       "        [-1.1969],\n",
       "        [-1.2194],\n",
       "        [-1.2418],\n",
       "        [-1.2643],\n",
       "        [-1.2867]], grad_fn=<AddBackward0>)"
      ]
     },
     "execution_count": 54,
     "metadata": {},
     "output_type": "execute_result"
    }
   ],
   "source": [
    "y_preds = model_0(X_test)\n",
    "\n",
    "y_preds"
   ]
  },
  {
   "cell_type": "markdown",
   "id": "dfe037b2-332b-435d-af26-6a6aa2641141",
   "metadata": {},
   "source": [
    "## 3. Train model\n",
    "\n",
    "Purpose of training is for model to move from *unknown* parametersto *known* parameters.\n",
    "From poor representation to better representation.\n",
    "\n",
    "\n",
    "Measure how poor models predictions are to use loss functions/cost function/criterion\n",
    "\n",
    "Loss function: measure how wrong the model's prediction is\n",
    "Optimiser: takes into account the loss of a model and adjusts the model's paremeters to improve the loss function\n",
    "\n",
    "PyTorch need Training loop and Testing loop"
   ]
  },
  {
   "cell_type": "code",
   "execution_count": 55,
   "id": "163b8ba4-2045-46f3-9b0d-bca5cef8012a",
   "metadata": {},
   "outputs": [
    {
     "data": {
      "text/plain": [
       "[Parameter containing:\n",
       " tensor([-1.1229], requires_grad=True),\n",
       " Parameter containing:\n",
       " tensor([-0.1863], requires_grad=True)]"
      ]
     },
     "execution_count": 55,
     "metadata": {},
     "output_type": "execute_result"
    }
   ],
   "source": [
    "list(model_0.parameters())"
   ]
  },
  {
   "cell_type": "code",
   "execution_count": null,
   "id": "c2378109-942b-4dbe-9fff-d12cd029df9b",
   "metadata": {},
   "outputs": [],
   "source": [
    "# Setup loss function\n",
    "loss_fn = nn.L1Loss()\n",
    "\n",
    "# setup optimiser (stochastic gradient descent)\n",
    "# lr = learning rate\n",
    "optimiser = torch.optim.SGD(params=model_0.parameters(), lr=0.01)"
   ]
  },
  {
   "cell_type": "code",
   "execution_count": null,
   "id": "c99c1783-86fe-43e3-8df1-50c27313c37b",
   "metadata": {},
   "outputs": [],
   "source": []
  },
  {
   "cell_type": "code",
   "execution_count": null,
   "id": "dff9c86a-ac87-425f-aabb-2e33c3148389",
   "metadata": {},
   "outputs": [],
   "source": []
  },
  {
   "cell_type": "code",
   "execution_count": null,
   "id": "835b9ba5-06e2-43a2-80d8-cf542681672b",
   "metadata": {},
   "outputs": [],
   "source": []
  },
  {
   "cell_type": "code",
   "execution_count": null,
   "id": "c86c5459-0c66-48c5-81a5-d9ee96bc767e",
   "metadata": {},
   "outputs": [],
   "source": []
  },
  {
   "cell_type": "code",
   "execution_count": null,
   "id": "4dac31e3-5999-4a5d-a856-b69389742f9e",
   "metadata": {},
   "outputs": [],
   "source": []
  },
  {
   "cell_type": "code",
   "execution_count": null,
   "id": "65d906ad-6443-42f9-85d6-8c02ec9b60ad",
   "metadata": {},
   "outputs": [],
   "source": []
  },
  {
   "cell_type": "code",
   "execution_count": null,
   "id": "a763e00c-21cf-4942-adab-bc7603b136cf",
   "metadata": {},
   "outputs": [],
   "source": []
  },
  {
   "cell_type": "code",
   "execution_count": null,
   "id": "257e97b5-6d63-4379-bc6b-221fe079b336",
   "metadata": {},
   "outputs": [],
   "source": []
  },
  {
   "cell_type": "code",
   "execution_count": null,
   "id": "57ccb44e-9329-48b3-b148-ffef5e46740c",
   "metadata": {},
   "outputs": [],
   "source": []
  },
  {
   "cell_type": "code",
   "execution_count": null,
   "id": "66f364aa-a9c5-4733-9a06-ec8ea446184f",
   "metadata": {},
   "outputs": [],
   "source": []
  },
  {
   "cell_type": "code",
   "execution_count": null,
   "id": "fb5eace8-f9d6-40e4-ab30-63586570e88f",
   "metadata": {},
   "outputs": [],
   "source": []
  }
 ],
 "metadata": {
  "kernelspec": {
   "display_name": "Python 3 (ipykernel)",
   "language": "python",
   "name": "python3"
  },
  "language_info": {
   "codemirror_mode": {
    "name": "ipython",
    "version": 3
   },
   "file_extension": ".py",
   "mimetype": "text/x-python",
   "name": "python",
   "nbconvert_exporter": "python",
   "pygments_lexer": "ipython3",
   "version": "3.12.2"
  }
 },
 "nbformat": 4,
 "nbformat_minor": 5
}
